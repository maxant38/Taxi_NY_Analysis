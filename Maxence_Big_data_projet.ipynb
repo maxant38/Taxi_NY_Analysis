{
  "cells": [
    {
      "cell_type": "markdown",
      "metadata": {
        "id": "view-in-github",
        "colab_type": "text"
      },
      "source": [
        "<a href=\"https://colab.research.google.com/github/maxant38/Taxi_NY_Analysis/blob/main/Maxence_Big_data_projet.ipynb\" target=\"_parent\"><img src=\"https://colab.research.google.com/assets/colab-badge.svg\" alt=\"Open In Colab\"/></a>"
      ]
    },
    {
      "cell_type": "markdown",
      "metadata": {
        "id": "__c8b1BK8Uzi"
      },
      "source": [
        "# **Import des librairies**"
      ]
    },
    {
      "cell_type": "code",
      "execution_count": 2,
      "metadata": {
        "id": "mOjxUbHj4tMy"
      },
      "outputs": [],
      "source": [
        "import os\n",
        "import time\n",
        "import numpy as np\n",
        "from sklearn.metrics import mean_squared_error\n",
        "import pandas as pd\n",
        "import matplotlib.pyplot as plt\n",
        "import seaborn as sns\n",
        "import pickle\n",
        "from numpy import argmax\n",
        "from numpy import sqrt \n",
        "\n",
        "from sklearn import datasets, linear_model\n",
        "from sklearn.linear_model import LinearRegression\n",
        "import statsmodels.api as sm\n",
        "from scipy import stats\n",
        "from sklearn.ensemble import RandomForestRegressor\n",
        "from scipy.stats import uniform, randint\n",
        "from sklearn.preprocessing import StandardScaler\n",
        "from imblearn.under_sampling import RandomUnderSampler\n",
        "\n",
        "from sklearn.model_selection import cross_val_score, GridSearchCV, KFold, RandomizedSearchCV, train_test_split\n",
        "from sklearn.linear_model import LogisticRegression\n",
        "from sklearn.ensemble import RandomForestClassifier\n",
        "from sklearn.svm import SVC\n",
        "import xgboost as xgb\n",
        "\n",
        "from sklearn.metrics import PrecisionRecallDisplay\n",
        "\n",
        "from sklearn.metrics import roc_curve, accuracy_score, f1_score, precision_score, recall_score,confusion_matrix,roc_auc_score\n",
        "\n",
        "seed = 1234\n"
      ]
    },
    {
      "cell_type": "markdown",
      "metadata": {
        "id": "YWHI7fxu8Zga"
      },
      "source": [
        "# **Import des données**"
      ]
    },
    {
      "cell_type": "code",
      "execution_count": 3,
      "metadata": {
        "colab": {
          "base_uri": "https://localhost:8080/"
        },
        "id": "2aRp8Quw8ZML",
        "outputId": "1b3948c4-6fb2-4425-d1f9-f72ec4736beb"
      },
      "outputs": [
        {
          "output_type": "stream",
          "name": "stdout",
          "text": [
            "Mounted at /content/gdrive\n"
          ]
        }
      ],
      "source": [
        "from google.colab import drive\n",
        "drive.mount('/content/gdrive')\n"
      ]
    },
    {
      "cell_type": "code",
      "execution_count": 7,
      "metadata": {
        "id": "F7iADBGS8vHS"
      },
      "outputs": [],
      "source": [
        "# Maxence path\n",
        "root_path_maxence = \"gdrive/MyDrive/Cours mines/Projet Big Data Taxi NY\" #ajoutez  un root_path qui mène au dossier partager\n",
        "\n",
        "df_yellow_taxi = pd.read_parquet(root_path_maxence +\"/yellow_tripdata_2022-01.parquet\")\n",
        "#df_green_taxi = pd.read_parquet(root_path_maxence +\"/green_tripdata_2022-01.parquet\")\n",
        "#df_for_hire_taxi = pd.read_parquet(root_path_maxence +\"/fhv_tripdata_2022-01.parquet\")\n",
        "#df_high_volume_taxi = pd.read_parquet(root_path_maxence +\"/fhv_tripdata_2022-01.parquet\")"
      ]
    },
    {
      "cell_type": "code",
      "execution_count": 5,
      "metadata": {
        "id": "xDpTjm7wdvRv"
      },
      "outputs": [],
      "source": [
        "df_yellow_taxi = pd.read_parquet(root_path_maxence +\"/green_tripdata_2022-01.parquet\")"
      ]
    },
    {
      "cell_type": "markdown",
      "metadata": {
        "id": "bpvkrlgsFH4x"
      },
      "source": [
        "Détail des colonnes:\n",
        "\n",
        "<br>VendorID: a code indicating the provider associated with the trip record.\n",
        "<br>tpep_pickup_datetime: the date and time when the trip began.\n",
        "<br>tpep_dropoff_datetime: the date and time when the trip ended.\n",
        "<br>passenger_count: the number of passengers in the vehicle.\n",
        "<br>trip_distance: the distance of the trip, in miles.\n",
        "<br>RatecodeID: the rate code associated with the trip.\n",
        "<br>store_and_fwd_flag: a flag indicating whether the trip record was held in <br>vehicle memory before sending to the vendor.\n",
        "<br>PULocationID: the ID of the location where the trip began.\n",
        "<br>DOLocationID: the ID of the location where the trip ended.\n",
        "<br>payment_type: the payment type used for the trip.\n",
        "<br>fare_amount: the fare amount charged to the passenger.\n",
        "<br>extra: any additional charges.\n",
        "<br>mta_tax: the MTA tax charged on the trip.\n",
        "<br>tip_amount: the amount of the tip given by the passenger.\n",
        "<br>tolls_amount: the amount paid for tolls.\n",
        "<br>improvement_surcharge: the improvement surcharge applied to the trip.\n",
        "<br>total_amount: the total amount paid by the passenger.\n",
        "<br>congestion_surcharge: the congestion surcharge applied to the trip (effective from 2021).\n",
        "<br>airport_fee: the airport fee applied to the trip (if applicable).\n",
        "\n",
        "\n"
      ]
    },
    {
      "cell_type": "code",
      "source": [
        "df_high_volume_taxi"
      ],
      "metadata": {
        "colab": {
          "base_uri": "https://localhost:8080/",
          "height": 424
        },
        "id": "-WCrO4ARzbXg",
        "outputId": "1507e9fc-7206-4d2a-e563-667d00bd4696"
      },
      "execution_count": 9,
      "outputs": [
        {
          "output_type": "execute_result",
          "data": {
            "text/plain": [
              "        dispatching_base_num     pickup_datetime    dropOff_datetime  \\\n",
              "0                     B00009 2022-01-01 00:31:00 2022-01-01 01:05:00   \n",
              "1                     B00009 2022-01-01 00:37:00 2022-01-01 01:05:00   \n",
              "2                     B00037 2022-01-01 00:56:37 2022-01-01 01:06:11   \n",
              "3                     B00037 2022-01-01 00:19:54 2022-01-01 00:30:47   \n",
              "4                     B00037 2022-01-01 00:41:49 2022-01-01 00:52:16   \n",
              "...                      ...                 ...                 ...   \n",
              "1143686               B03380 2022-01-31 23:22:41 2022-01-31 23:26:39   \n",
              "1143687               B03380 2022-01-31 23:42:42 2022-01-31 23:52:58   \n",
              "1143688               B03380 2022-01-31 23:07:13 2022-01-31 23:13:40   \n",
              "1143689               B03380 2022-01-31 23:16:14 2022-01-31 23:31:03   \n",
              "1143690               B03381 2022-01-31 23:47:42 2022-02-01 00:15:03   \n",
              "\n",
              "         PUlocationID  DOlocationID SR_Flag Affiliated_base_number  \n",
              "0                 NaN           NaN    None                 B00009  \n",
              "1                 NaN           NaN    None                 B00009  \n",
              "2                 NaN          85.0    None                 B00037  \n",
              "3                 NaN          85.0    None                 B00037  \n",
              "4                 NaN         188.0    None                 B00037  \n",
              "...               ...           ...     ...                    ...  \n",
              "1143686         234.0         107.0    None                 B03380  \n",
              "1143687         114.0         148.0    None                 B03380  \n",
              "1143688          90.0         113.0    None                 B03380  \n",
              "1143689         113.0         140.0    None                 B03380  \n",
              "1143690           NaN         122.0    None                 B03404  \n",
              "\n",
              "[1143691 rows x 7 columns]"
            ],
            "text/html": [
              "\n",
              "  <div id=\"df-64be71d2-160c-4744-9042-1953028b2763\">\n",
              "    <div class=\"colab-df-container\">\n",
              "      <div>\n",
              "<style scoped>\n",
              "    .dataframe tbody tr th:only-of-type {\n",
              "        vertical-align: middle;\n",
              "    }\n",
              "\n",
              "    .dataframe tbody tr th {\n",
              "        vertical-align: top;\n",
              "    }\n",
              "\n",
              "    .dataframe thead th {\n",
              "        text-align: right;\n",
              "    }\n",
              "</style>\n",
              "<table border=\"1\" class=\"dataframe\">\n",
              "  <thead>\n",
              "    <tr style=\"text-align: right;\">\n",
              "      <th></th>\n",
              "      <th>dispatching_base_num</th>\n",
              "      <th>pickup_datetime</th>\n",
              "      <th>dropOff_datetime</th>\n",
              "      <th>PUlocationID</th>\n",
              "      <th>DOlocationID</th>\n",
              "      <th>SR_Flag</th>\n",
              "      <th>Affiliated_base_number</th>\n",
              "    </tr>\n",
              "  </thead>\n",
              "  <tbody>\n",
              "    <tr>\n",
              "      <th>0</th>\n",
              "      <td>B00009</td>\n",
              "      <td>2022-01-01 00:31:00</td>\n",
              "      <td>2022-01-01 01:05:00</td>\n",
              "      <td>NaN</td>\n",
              "      <td>NaN</td>\n",
              "      <td>None</td>\n",
              "      <td>B00009</td>\n",
              "    </tr>\n",
              "    <tr>\n",
              "      <th>1</th>\n",
              "      <td>B00009</td>\n",
              "      <td>2022-01-01 00:37:00</td>\n",
              "      <td>2022-01-01 01:05:00</td>\n",
              "      <td>NaN</td>\n",
              "      <td>NaN</td>\n",
              "      <td>None</td>\n",
              "      <td>B00009</td>\n",
              "    </tr>\n",
              "    <tr>\n",
              "      <th>2</th>\n",
              "      <td>B00037</td>\n",
              "      <td>2022-01-01 00:56:37</td>\n",
              "      <td>2022-01-01 01:06:11</td>\n",
              "      <td>NaN</td>\n",
              "      <td>85.0</td>\n",
              "      <td>None</td>\n",
              "      <td>B00037</td>\n",
              "    </tr>\n",
              "    <tr>\n",
              "      <th>3</th>\n",
              "      <td>B00037</td>\n",
              "      <td>2022-01-01 00:19:54</td>\n",
              "      <td>2022-01-01 00:30:47</td>\n",
              "      <td>NaN</td>\n",
              "      <td>85.0</td>\n",
              "      <td>None</td>\n",
              "      <td>B00037</td>\n",
              "    </tr>\n",
              "    <tr>\n",
              "      <th>4</th>\n",
              "      <td>B00037</td>\n",
              "      <td>2022-01-01 00:41:49</td>\n",
              "      <td>2022-01-01 00:52:16</td>\n",
              "      <td>NaN</td>\n",
              "      <td>188.0</td>\n",
              "      <td>None</td>\n",
              "      <td>B00037</td>\n",
              "    </tr>\n",
              "    <tr>\n",
              "      <th>...</th>\n",
              "      <td>...</td>\n",
              "      <td>...</td>\n",
              "      <td>...</td>\n",
              "      <td>...</td>\n",
              "      <td>...</td>\n",
              "      <td>...</td>\n",
              "      <td>...</td>\n",
              "    </tr>\n",
              "    <tr>\n",
              "      <th>1143686</th>\n",
              "      <td>B03380</td>\n",
              "      <td>2022-01-31 23:22:41</td>\n",
              "      <td>2022-01-31 23:26:39</td>\n",
              "      <td>234.0</td>\n",
              "      <td>107.0</td>\n",
              "      <td>None</td>\n",
              "      <td>B03380</td>\n",
              "    </tr>\n",
              "    <tr>\n",
              "      <th>1143687</th>\n",
              "      <td>B03380</td>\n",
              "      <td>2022-01-31 23:42:42</td>\n",
              "      <td>2022-01-31 23:52:58</td>\n",
              "      <td>114.0</td>\n",
              "      <td>148.0</td>\n",
              "      <td>None</td>\n",
              "      <td>B03380</td>\n",
              "    </tr>\n",
              "    <tr>\n",
              "      <th>1143688</th>\n",
              "      <td>B03380</td>\n",
              "      <td>2022-01-31 23:07:13</td>\n",
              "      <td>2022-01-31 23:13:40</td>\n",
              "      <td>90.0</td>\n",
              "      <td>113.0</td>\n",
              "      <td>None</td>\n",
              "      <td>B03380</td>\n",
              "    </tr>\n",
              "    <tr>\n",
              "      <th>1143689</th>\n",
              "      <td>B03380</td>\n",
              "      <td>2022-01-31 23:16:14</td>\n",
              "      <td>2022-01-31 23:31:03</td>\n",
              "      <td>113.0</td>\n",
              "      <td>140.0</td>\n",
              "      <td>None</td>\n",
              "      <td>B03380</td>\n",
              "    </tr>\n",
              "    <tr>\n",
              "      <th>1143690</th>\n",
              "      <td>B03381</td>\n",
              "      <td>2022-01-31 23:47:42</td>\n",
              "      <td>2022-02-01 00:15:03</td>\n",
              "      <td>NaN</td>\n",
              "      <td>122.0</td>\n",
              "      <td>None</td>\n",
              "      <td>B03404</td>\n",
              "    </tr>\n",
              "  </tbody>\n",
              "</table>\n",
              "<p>1143691 rows × 7 columns</p>\n",
              "</div>\n",
              "      <button class=\"colab-df-convert\" onclick=\"convertToInteractive('df-64be71d2-160c-4744-9042-1953028b2763')\"\n",
              "              title=\"Convert this dataframe to an interactive table.\"\n",
              "              style=\"display:none;\">\n",
              "        \n",
              "  <svg xmlns=\"http://www.w3.org/2000/svg\" height=\"24px\"viewBox=\"0 0 24 24\"\n",
              "       width=\"24px\">\n",
              "    <path d=\"M0 0h24v24H0V0z\" fill=\"none\"/>\n",
              "    <path d=\"M18.56 5.44l.94 2.06.94-2.06 2.06-.94-2.06-.94-.94-2.06-.94 2.06-2.06.94zm-11 1L8.5 8.5l.94-2.06 2.06-.94-2.06-.94L8.5 2.5l-.94 2.06-2.06.94zm10 10l.94 2.06.94-2.06 2.06-.94-2.06-.94-.94-2.06-.94 2.06-2.06.94z\"/><path d=\"M17.41 7.96l-1.37-1.37c-.4-.4-.92-.59-1.43-.59-.52 0-1.04.2-1.43.59L10.3 9.45l-7.72 7.72c-.78.78-.78 2.05 0 2.83L4 21.41c.39.39.9.59 1.41.59.51 0 1.02-.2 1.41-.59l7.78-7.78 2.81-2.81c.8-.78.8-2.07 0-2.86zM5.41 20L4 18.59l7.72-7.72 1.47 1.35L5.41 20z\"/>\n",
              "  </svg>\n",
              "      </button>\n",
              "      \n",
              "  <style>\n",
              "    .colab-df-container {\n",
              "      display:flex;\n",
              "      flex-wrap:wrap;\n",
              "      gap: 12px;\n",
              "    }\n",
              "\n",
              "    .colab-df-convert {\n",
              "      background-color: #E8F0FE;\n",
              "      border: none;\n",
              "      border-radius: 50%;\n",
              "      cursor: pointer;\n",
              "      display: none;\n",
              "      fill: #1967D2;\n",
              "      height: 32px;\n",
              "      padding: 0 0 0 0;\n",
              "      width: 32px;\n",
              "    }\n",
              "\n",
              "    .colab-df-convert:hover {\n",
              "      background-color: #E2EBFA;\n",
              "      box-shadow: 0px 1px 2px rgba(60, 64, 67, 0.3), 0px 1px 3px 1px rgba(60, 64, 67, 0.15);\n",
              "      fill: #174EA6;\n",
              "    }\n",
              "\n",
              "    [theme=dark] .colab-df-convert {\n",
              "      background-color: #3B4455;\n",
              "      fill: #D2E3FC;\n",
              "    }\n",
              "\n",
              "    [theme=dark] .colab-df-convert:hover {\n",
              "      background-color: #434B5C;\n",
              "      box-shadow: 0px 1px 3px 1px rgba(0, 0, 0, 0.15);\n",
              "      filter: drop-shadow(0px 1px 2px rgba(0, 0, 0, 0.3));\n",
              "      fill: #FFFFFF;\n",
              "    }\n",
              "  </style>\n",
              "\n",
              "      <script>\n",
              "        const buttonEl =\n",
              "          document.querySelector('#df-64be71d2-160c-4744-9042-1953028b2763 button.colab-df-convert');\n",
              "        buttonEl.style.display =\n",
              "          google.colab.kernel.accessAllowed ? 'block' : 'none';\n",
              "\n",
              "        async function convertToInteractive(key) {\n",
              "          const element = document.querySelector('#df-64be71d2-160c-4744-9042-1953028b2763');\n",
              "          const dataTable =\n",
              "            await google.colab.kernel.invokeFunction('convertToInteractive',\n",
              "                                                     [key], {});\n",
              "          if (!dataTable) return;\n",
              "\n",
              "          const docLinkHtml = 'Like what you see? Visit the ' +\n",
              "            '<a target=\"_blank\" href=https://colab.research.google.com/notebooks/data_table.ipynb>data table notebook</a>'\n",
              "            + ' to learn more about interactive tables.';\n",
              "          element.innerHTML = '';\n",
              "          dataTable['output_type'] = 'display_data';\n",
              "          await google.colab.output.renderOutput(dataTable, element);\n",
              "          const docLink = document.createElement('div');\n",
              "          docLink.innerHTML = docLinkHtml;\n",
              "          element.appendChild(docLink);\n",
              "        }\n",
              "      </script>\n",
              "    </div>\n",
              "  </div>\n",
              "  "
            ]
          },
          "metadata": {},
          "execution_count": 9
        }
      ]
    },
    {
      "cell_type": "code",
      "execution_count": 5,
      "metadata": {
        "colab": {
          "base_uri": "https://localhost:8080/"
        },
        "id": "GRzE3fHC5oH-",
        "outputId": "1d0d32e3-0f50-438a-d0ee-8d7031580d51"
      },
      "outputs": [
        {
          "output_type": "execute_result",
          "data": {
            "text/plain": [
              "(2463931, 19)"
            ]
          },
          "metadata": {},
          "execution_count": 5
        }
      ],
      "source": [
        "df_yellow_taxi.shape"
      ]
    },
    {
      "cell_type": "markdown",
      "metadata": {
        "id": "wnv2FHGUZrrQ"
      },
      "source": [
        "#**Data Cleaning**"
      ]
    },
    {
      "cell_type": "code",
      "execution_count": 6,
      "metadata": {
        "colab": {
          "base_uri": "https://localhost:8080/"
        },
        "id": "8PmTwOelbVDP",
        "outputId": "548f0526-1778-4922-80d0-cae8bf2d8a8b"
      },
      "outputs": [
        {
          "output_type": "stream",
          "name": "stdout",
          "text": [
            "<class 'pandas.core.frame.DataFrame'>\n",
            "RangeIndex: 2463931 entries, 0 to 2463930\n",
            "Data columns (total 19 columns):\n",
            " #   Column                 Dtype         \n",
            "---  ------                 -----         \n",
            " 0   VendorID               int64         \n",
            " 1   tpep_pickup_datetime   datetime64[ns]\n",
            " 2   tpep_dropoff_datetime  datetime64[ns]\n",
            " 3   passenger_count        float64       \n",
            " 4   trip_distance          float64       \n",
            " 5   RatecodeID             float64       \n",
            " 6   store_and_fwd_flag     object        \n",
            " 7   PULocationID           int64         \n",
            " 8   DOLocationID           int64         \n",
            " 9   payment_type           int64         \n",
            " 10  fare_amount            float64       \n",
            " 11  extra                  float64       \n",
            " 12  mta_tax                float64       \n",
            " 13  tip_amount             float64       \n",
            " 14  tolls_amount           float64       \n",
            " 15  improvement_surcharge  float64       \n",
            " 16  total_amount           float64       \n",
            " 17  congestion_surcharge   float64       \n",
            " 18  airport_fee            float64       \n",
            "dtypes: datetime64[ns](2), float64(12), int64(4), object(1)\n",
            "memory usage: 357.2+ MB\n"
          ]
        }
      ],
      "source": [
        "df_yellow_taxi.info()"
      ]
    },
    {
      "cell_type": "code",
      "execution_count": 7,
      "metadata": {
        "colab": {
          "base_uri": "https://localhost:8080/"
        },
        "id": "BKaMGCkFbkPu",
        "outputId": "e6c05cb1-e336-4d25-9eff-0397d6729516"
      },
      "outputs": [
        {
          "output_type": "stream",
          "name": "stdout",
          "text": [
            "VendorID                     0\n",
            "tpep_pickup_datetime         0\n",
            "tpep_dropoff_datetime        0\n",
            "passenger_count          71503\n",
            "trip_distance                0\n",
            "RatecodeID               71503\n",
            "store_and_fwd_flag       71503\n",
            "PULocationID                 0\n",
            "DOLocationID                 0\n",
            "payment_type                 0\n",
            "fare_amount                  0\n",
            "extra                        0\n",
            "mta_tax                      0\n",
            "tip_amount                   0\n",
            "tolls_amount                 0\n",
            "improvement_surcharge        0\n",
            "total_amount                 0\n",
            "congestion_surcharge     71503\n",
            "airport_fee              71503\n",
            "dtype: int64\n"
          ]
        }
      ],
      "source": [
        "# Count the number of 0 values in each column\n",
        "null_counts = df_yellow_taxi.isnull().sum() # This function takes a scalar or array-like object and indicates whether values are missing (NaN in numeric arrays, None or NaN in object arrays, NaT in datetimelike).\n",
        "print(null_counts)"
      ]
    },
    {
      "cell_type": "code",
      "execution_count": 8,
      "metadata": {
        "colab": {
          "base_uri": "https://localhost:8080/",
          "height": 0
        },
        "id": "CN7-zt61f39x",
        "outputId": "5688af6d-a168-4c36-b561-70fea5b79953"
      },
      "outputs": [
        {
          "output_type": "execute_result",
          "data": {
            "text/plain": [
              "         VendorID tpep_pickup_datetime tpep_dropoff_datetime  passenger_count  \\\n",
              "2392428         2  2022-01-01 00:50:00   2022-01-01 00:54:00              NaN   \n",
              "2392429         2  2022-01-01 00:49:24   2022-01-01 01:27:36              NaN   \n",
              "2392430         2  2022-01-01 00:42:00   2022-01-01 00:56:00              NaN   \n",
              "2392431         2  2022-01-01 00:40:00   2022-01-01 00:55:00              NaN   \n",
              "2392432         2  2022-01-01 00:40:00   2022-01-01 00:52:00              NaN   \n",
              "...           ...                  ...                   ...              ...   \n",
              "2463926         2  2022-01-31 23:36:53   2022-01-31 23:42:51              NaN   \n",
              "2463927         2  2022-01-31 23:44:22   2022-01-31 23:55:01              NaN   \n",
              "2463928         2  2022-01-31 23:39:00   2022-01-31 23:50:00              NaN   \n",
              "2463929         2  2022-01-31 23:36:42   2022-01-31 23:48:45              NaN   \n",
              "2463930         2  2022-01-31 23:46:00   2022-02-01 00:13:00              NaN   \n",
              "\n",
              "         trip_distance  RatecodeID store_and_fwd_flag  PULocationID  \\\n",
              "2392428           1.00         NaN               None            68   \n",
              "2392429          13.31         NaN               None           257   \n",
              "2392430           2.87         NaN               None           143   \n",
              "2392431           3.24         NaN               None           143   \n",
              "2392432           2.19         NaN               None           239   \n",
              "...                ...         ...                ...           ...   \n",
              "2463926           1.32         NaN               None            90   \n",
              "2463927           4.19         NaN               None           107   \n",
              "2463928           2.10         NaN               None           113   \n",
              "2463929           2.92         NaN               None           148   \n",
              "2463930           8.94         NaN               None           186   \n",
              "\n",
              "         DOLocationID  payment_type  fare_amount  extra  mta_tax  tip_amount  \\\n",
              "2392428           246             0        13.20    0.0      0.5        1.75   \n",
              "2392429           223             0        44.87    0.0      0.5       10.05   \n",
              "2392430           236             0        13.23    0.0      0.5        3.51   \n",
              "2392431           262             0        14.19    0.0      0.5        3.72   \n",
              "2392432           166             0        13.20    0.0      0.5        5.25   \n",
              "...               ...           ...          ...    ...      ...         ...   \n",
              "2463926           170             0         8.00    0.0      0.5        2.39   \n",
              "2463927            75             0        16.80    0.0      0.5        4.35   \n",
              "2463928           246             0        11.22    0.0      0.5        2.00   \n",
              "2463929           164             0        12.40    0.0      0.5        0.00   \n",
              "2463930           181             0        25.48    0.0      0.5        6.28   \n",
              "\n",
              "         tolls_amount  improvement_surcharge  total_amount  \\\n",
              "2392428           0.0                    0.3         18.25   \n",
              "2392429           0.0                    0.3         55.72   \n",
              "2392430           0.0                    0.3         20.04   \n",
              "2392431           0.0                    0.3         21.21   \n",
              "2392432           0.0                    0.3         21.75   \n",
              "...               ...                    ...           ...   \n",
              "2463926           0.0                    0.3         13.69   \n",
              "2463927           0.0                    0.3         24.45   \n",
              "2463928           0.0                    0.3         16.52   \n",
              "2463929           0.0                    0.3         15.70   \n",
              "2463930           0.0                    0.3         35.06   \n",
              "\n",
              "         congestion_surcharge  airport_fee  \n",
              "2392428                   NaN          NaN  \n",
              "2392429                   NaN          NaN  \n",
              "2392430                   NaN          NaN  \n",
              "2392431                   NaN          NaN  \n",
              "2392432                   NaN          NaN  \n",
              "...                       ...          ...  \n",
              "2463926                   NaN          NaN  \n",
              "2463927                   NaN          NaN  \n",
              "2463928                   NaN          NaN  \n",
              "2463929                   NaN          NaN  \n",
              "2463930                   NaN          NaN  \n",
              "\n",
              "[71503 rows x 19 columns]"
            ],
            "text/html": [
              "\n",
              "  <div id=\"df-7ec5997c-ad6c-4a4c-beaa-3c6f4949187d\">\n",
              "    <div class=\"colab-df-container\">\n",
              "      <div>\n",
              "<style scoped>\n",
              "    .dataframe tbody tr th:only-of-type {\n",
              "        vertical-align: middle;\n",
              "    }\n",
              "\n",
              "    .dataframe tbody tr th {\n",
              "        vertical-align: top;\n",
              "    }\n",
              "\n",
              "    .dataframe thead th {\n",
              "        text-align: right;\n",
              "    }\n",
              "</style>\n",
              "<table border=\"1\" class=\"dataframe\">\n",
              "  <thead>\n",
              "    <tr style=\"text-align: right;\">\n",
              "      <th></th>\n",
              "      <th>VendorID</th>\n",
              "      <th>tpep_pickup_datetime</th>\n",
              "      <th>tpep_dropoff_datetime</th>\n",
              "      <th>passenger_count</th>\n",
              "      <th>trip_distance</th>\n",
              "      <th>RatecodeID</th>\n",
              "      <th>store_and_fwd_flag</th>\n",
              "      <th>PULocationID</th>\n",
              "      <th>DOLocationID</th>\n",
              "      <th>payment_type</th>\n",
              "      <th>fare_amount</th>\n",
              "      <th>extra</th>\n",
              "      <th>mta_tax</th>\n",
              "      <th>tip_amount</th>\n",
              "      <th>tolls_amount</th>\n",
              "      <th>improvement_surcharge</th>\n",
              "      <th>total_amount</th>\n",
              "      <th>congestion_surcharge</th>\n",
              "      <th>airport_fee</th>\n",
              "    </tr>\n",
              "  </thead>\n",
              "  <tbody>\n",
              "    <tr>\n",
              "      <th>2392428</th>\n",
              "      <td>2</td>\n",
              "      <td>2022-01-01 00:50:00</td>\n",
              "      <td>2022-01-01 00:54:00</td>\n",
              "      <td>NaN</td>\n",
              "      <td>1.00</td>\n",
              "      <td>NaN</td>\n",
              "      <td>None</td>\n",
              "      <td>68</td>\n",
              "      <td>246</td>\n",
              "      <td>0</td>\n",
              "      <td>13.20</td>\n",
              "      <td>0.0</td>\n",
              "      <td>0.5</td>\n",
              "      <td>1.75</td>\n",
              "      <td>0.0</td>\n",
              "      <td>0.3</td>\n",
              "      <td>18.25</td>\n",
              "      <td>NaN</td>\n",
              "      <td>NaN</td>\n",
              "    </tr>\n",
              "    <tr>\n",
              "      <th>2392429</th>\n",
              "      <td>2</td>\n",
              "      <td>2022-01-01 00:49:24</td>\n",
              "      <td>2022-01-01 01:27:36</td>\n",
              "      <td>NaN</td>\n",
              "      <td>13.31</td>\n",
              "      <td>NaN</td>\n",
              "      <td>None</td>\n",
              "      <td>257</td>\n",
              "      <td>223</td>\n",
              "      <td>0</td>\n",
              "      <td>44.87</td>\n",
              "      <td>0.0</td>\n",
              "      <td>0.5</td>\n",
              "      <td>10.05</td>\n",
              "      <td>0.0</td>\n",
              "      <td>0.3</td>\n",
              "      <td>55.72</td>\n",
              "      <td>NaN</td>\n",
              "      <td>NaN</td>\n",
              "    </tr>\n",
              "    <tr>\n",
              "      <th>2392430</th>\n",
              "      <td>2</td>\n",
              "      <td>2022-01-01 00:42:00</td>\n",
              "      <td>2022-01-01 00:56:00</td>\n",
              "      <td>NaN</td>\n",
              "      <td>2.87</td>\n",
              "      <td>NaN</td>\n",
              "      <td>None</td>\n",
              "      <td>143</td>\n",
              "      <td>236</td>\n",
              "      <td>0</td>\n",
              "      <td>13.23</td>\n",
              "      <td>0.0</td>\n",
              "      <td>0.5</td>\n",
              "      <td>3.51</td>\n",
              "      <td>0.0</td>\n",
              "      <td>0.3</td>\n",
              "      <td>20.04</td>\n",
              "      <td>NaN</td>\n",
              "      <td>NaN</td>\n",
              "    </tr>\n",
              "    <tr>\n",
              "      <th>2392431</th>\n",
              "      <td>2</td>\n",
              "      <td>2022-01-01 00:40:00</td>\n",
              "      <td>2022-01-01 00:55:00</td>\n",
              "      <td>NaN</td>\n",
              "      <td>3.24</td>\n",
              "      <td>NaN</td>\n",
              "      <td>None</td>\n",
              "      <td>143</td>\n",
              "      <td>262</td>\n",
              "      <td>0</td>\n",
              "      <td>14.19</td>\n",
              "      <td>0.0</td>\n",
              "      <td>0.5</td>\n",
              "      <td>3.72</td>\n",
              "      <td>0.0</td>\n",
              "      <td>0.3</td>\n",
              "      <td>21.21</td>\n",
              "      <td>NaN</td>\n",
              "      <td>NaN</td>\n",
              "    </tr>\n",
              "    <tr>\n",
              "      <th>2392432</th>\n",
              "      <td>2</td>\n",
              "      <td>2022-01-01 00:40:00</td>\n",
              "      <td>2022-01-01 00:52:00</td>\n",
              "      <td>NaN</td>\n",
              "      <td>2.19</td>\n",
              "      <td>NaN</td>\n",
              "      <td>None</td>\n",
              "      <td>239</td>\n",
              "      <td>166</td>\n",
              "      <td>0</td>\n",
              "      <td>13.20</td>\n",
              "      <td>0.0</td>\n",
              "      <td>0.5</td>\n",
              "      <td>5.25</td>\n",
              "      <td>0.0</td>\n",
              "      <td>0.3</td>\n",
              "      <td>21.75</td>\n",
              "      <td>NaN</td>\n",
              "      <td>NaN</td>\n",
              "    </tr>\n",
              "    <tr>\n",
              "      <th>...</th>\n",
              "      <td>...</td>\n",
              "      <td>...</td>\n",
              "      <td>...</td>\n",
              "      <td>...</td>\n",
              "      <td>...</td>\n",
              "      <td>...</td>\n",
              "      <td>...</td>\n",
              "      <td>...</td>\n",
              "      <td>...</td>\n",
              "      <td>...</td>\n",
              "      <td>...</td>\n",
              "      <td>...</td>\n",
              "      <td>...</td>\n",
              "      <td>...</td>\n",
              "      <td>...</td>\n",
              "      <td>...</td>\n",
              "      <td>...</td>\n",
              "      <td>...</td>\n",
              "      <td>...</td>\n",
              "    </tr>\n",
              "    <tr>\n",
              "      <th>2463926</th>\n",
              "      <td>2</td>\n",
              "      <td>2022-01-31 23:36:53</td>\n",
              "      <td>2022-01-31 23:42:51</td>\n",
              "      <td>NaN</td>\n",
              "      <td>1.32</td>\n",
              "      <td>NaN</td>\n",
              "      <td>None</td>\n",
              "      <td>90</td>\n",
              "      <td>170</td>\n",
              "      <td>0</td>\n",
              "      <td>8.00</td>\n",
              "      <td>0.0</td>\n",
              "      <td>0.5</td>\n",
              "      <td>2.39</td>\n",
              "      <td>0.0</td>\n",
              "      <td>0.3</td>\n",
              "      <td>13.69</td>\n",
              "      <td>NaN</td>\n",
              "      <td>NaN</td>\n",
              "    </tr>\n",
              "    <tr>\n",
              "      <th>2463927</th>\n",
              "      <td>2</td>\n",
              "      <td>2022-01-31 23:44:22</td>\n",
              "      <td>2022-01-31 23:55:01</td>\n",
              "      <td>NaN</td>\n",
              "      <td>4.19</td>\n",
              "      <td>NaN</td>\n",
              "      <td>None</td>\n",
              "      <td>107</td>\n",
              "      <td>75</td>\n",
              "      <td>0</td>\n",
              "      <td>16.80</td>\n",
              "      <td>0.0</td>\n",
              "      <td>0.5</td>\n",
              "      <td>4.35</td>\n",
              "      <td>0.0</td>\n",
              "      <td>0.3</td>\n",
              "      <td>24.45</td>\n",
              "      <td>NaN</td>\n",
              "      <td>NaN</td>\n",
              "    </tr>\n",
              "    <tr>\n",
              "      <th>2463928</th>\n",
              "      <td>2</td>\n",
              "      <td>2022-01-31 23:39:00</td>\n",
              "      <td>2022-01-31 23:50:00</td>\n",
              "      <td>NaN</td>\n",
              "      <td>2.10</td>\n",
              "      <td>NaN</td>\n",
              "      <td>None</td>\n",
              "      <td>113</td>\n",
              "      <td>246</td>\n",
              "      <td>0</td>\n",
              "      <td>11.22</td>\n",
              "      <td>0.0</td>\n",
              "      <td>0.5</td>\n",
              "      <td>2.00</td>\n",
              "      <td>0.0</td>\n",
              "      <td>0.3</td>\n",
              "      <td>16.52</td>\n",
              "      <td>NaN</td>\n",
              "      <td>NaN</td>\n",
              "    </tr>\n",
              "    <tr>\n",
              "      <th>2463929</th>\n",
              "      <td>2</td>\n",
              "      <td>2022-01-31 23:36:42</td>\n",
              "      <td>2022-01-31 23:48:45</td>\n",
              "      <td>NaN</td>\n",
              "      <td>2.92</td>\n",
              "      <td>NaN</td>\n",
              "      <td>None</td>\n",
              "      <td>148</td>\n",
              "      <td>164</td>\n",
              "      <td>0</td>\n",
              "      <td>12.40</td>\n",
              "      <td>0.0</td>\n",
              "      <td>0.5</td>\n",
              "      <td>0.00</td>\n",
              "      <td>0.0</td>\n",
              "      <td>0.3</td>\n",
              "      <td>15.70</td>\n",
              "      <td>NaN</td>\n",
              "      <td>NaN</td>\n",
              "    </tr>\n",
              "    <tr>\n",
              "      <th>2463930</th>\n",
              "      <td>2</td>\n",
              "      <td>2022-01-31 23:46:00</td>\n",
              "      <td>2022-02-01 00:13:00</td>\n",
              "      <td>NaN</td>\n",
              "      <td>8.94</td>\n",
              "      <td>NaN</td>\n",
              "      <td>None</td>\n",
              "      <td>186</td>\n",
              "      <td>181</td>\n",
              "      <td>0</td>\n",
              "      <td>25.48</td>\n",
              "      <td>0.0</td>\n",
              "      <td>0.5</td>\n",
              "      <td>6.28</td>\n",
              "      <td>0.0</td>\n",
              "      <td>0.3</td>\n",
              "      <td>35.06</td>\n",
              "      <td>NaN</td>\n",
              "      <td>NaN</td>\n",
              "    </tr>\n",
              "  </tbody>\n",
              "</table>\n",
              "<p>71503 rows × 19 columns</p>\n",
              "</div>\n",
              "      <button class=\"colab-df-convert\" onclick=\"convertToInteractive('df-7ec5997c-ad6c-4a4c-beaa-3c6f4949187d')\"\n",
              "              title=\"Convert this dataframe to an interactive table.\"\n",
              "              style=\"display:none;\">\n",
              "        \n",
              "  <svg xmlns=\"http://www.w3.org/2000/svg\" height=\"24px\"viewBox=\"0 0 24 24\"\n",
              "       width=\"24px\">\n",
              "    <path d=\"M0 0h24v24H0V0z\" fill=\"none\"/>\n",
              "    <path d=\"M18.56 5.44l.94 2.06.94-2.06 2.06-.94-2.06-.94-.94-2.06-.94 2.06-2.06.94zm-11 1L8.5 8.5l.94-2.06 2.06-.94-2.06-.94L8.5 2.5l-.94 2.06-2.06.94zm10 10l.94 2.06.94-2.06 2.06-.94-2.06-.94-.94-2.06-.94 2.06-2.06.94z\"/><path d=\"M17.41 7.96l-1.37-1.37c-.4-.4-.92-.59-1.43-.59-.52 0-1.04.2-1.43.59L10.3 9.45l-7.72 7.72c-.78.78-.78 2.05 0 2.83L4 21.41c.39.39.9.59 1.41.59.51 0 1.02-.2 1.41-.59l7.78-7.78 2.81-2.81c.8-.78.8-2.07 0-2.86zM5.41 20L4 18.59l7.72-7.72 1.47 1.35L5.41 20z\"/>\n",
              "  </svg>\n",
              "      </button>\n",
              "      \n",
              "  <style>\n",
              "    .colab-df-container {\n",
              "      display:flex;\n",
              "      flex-wrap:wrap;\n",
              "      gap: 12px;\n",
              "    }\n",
              "\n",
              "    .colab-df-convert {\n",
              "      background-color: #E8F0FE;\n",
              "      border: none;\n",
              "      border-radius: 50%;\n",
              "      cursor: pointer;\n",
              "      display: none;\n",
              "      fill: #1967D2;\n",
              "      height: 32px;\n",
              "      padding: 0 0 0 0;\n",
              "      width: 32px;\n",
              "    }\n",
              "\n",
              "    .colab-df-convert:hover {\n",
              "      background-color: #E2EBFA;\n",
              "      box-shadow: 0px 1px 2px rgba(60, 64, 67, 0.3), 0px 1px 3px 1px rgba(60, 64, 67, 0.15);\n",
              "      fill: #174EA6;\n",
              "    }\n",
              "\n",
              "    [theme=dark] .colab-df-convert {\n",
              "      background-color: #3B4455;\n",
              "      fill: #D2E3FC;\n",
              "    }\n",
              "\n",
              "    [theme=dark] .colab-df-convert:hover {\n",
              "      background-color: #434B5C;\n",
              "      box-shadow: 0px 1px 3px 1px rgba(0, 0, 0, 0.15);\n",
              "      filter: drop-shadow(0px 1px 2px rgba(0, 0, 0, 0.3));\n",
              "      fill: #FFFFFF;\n",
              "    }\n",
              "  </style>\n",
              "\n",
              "      <script>\n",
              "        const buttonEl =\n",
              "          document.querySelector('#df-7ec5997c-ad6c-4a4c-beaa-3c6f4949187d button.colab-df-convert');\n",
              "        buttonEl.style.display =\n",
              "          google.colab.kernel.accessAllowed ? 'block' : 'none';\n",
              "\n",
              "        async function convertToInteractive(key) {\n",
              "          const element = document.querySelector('#df-7ec5997c-ad6c-4a4c-beaa-3c6f4949187d');\n",
              "          const dataTable =\n",
              "            await google.colab.kernel.invokeFunction('convertToInteractive',\n",
              "                                                     [key], {});\n",
              "          if (!dataTable) return;\n",
              "\n",
              "          const docLinkHtml = 'Like what you see? Visit the ' +\n",
              "            '<a target=\"_blank\" href=https://colab.research.google.com/notebooks/data_table.ipynb>data table notebook</a>'\n",
              "            + ' to learn more about interactive tables.';\n",
              "          element.innerHTML = '';\n",
              "          dataTable['output_type'] = 'display_data';\n",
              "          await google.colab.output.renderOutput(dataTable, element);\n",
              "          const docLink = document.createElement('div');\n",
              "          docLink.innerHTML = docLinkHtml;\n",
              "          element.appendChild(docLink);\n",
              "        }\n",
              "      </script>\n",
              "    </div>\n",
              "  </div>\n",
              "  "
            ]
          },
          "metadata": {},
          "execution_count": 8
        }
      ],
      "source": [
        "#On enleve les trajets ne contenant aucun passager\n",
        "df_yellow_taxi[df_yellow_taxi['passenger_count'].isnull()]"
      ]
    },
    {
      "cell_type": "code",
      "execution_count": 9,
      "metadata": {
        "id": "Lp90NgKChqSV"
      },
      "outputs": [],
      "source": [
        "df_yellow_taxi  = df_yellow_taxi.dropna(subset=['passenger_count'])"
      ]
    },
    {
      "cell_type": "code",
      "execution_count": 10,
      "metadata": {
        "colab": {
          "base_uri": "https://localhost:8080/"
        },
        "id": "mWo-G72PiUSo",
        "outputId": "53b3daa1-9ee8-432e-da8a-04b0e0f8882f"
      },
      "outputs": [
        {
          "output_type": "stream",
          "name": "stdout",
          "text": [
            "VendorID                 0\n",
            "tpep_pickup_datetime     0\n",
            "tpep_dropoff_datetime    0\n",
            "passenger_count          0\n",
            "trip_distance            0\n",
            "RatecodeID               0\n",
            "store_and_fwd_flag       0\n",
            "PULocationID             0\n",
            "DOLocationID             0\n",
            "payment_type             0\n",
            "fare_amount              0\n",
            "extra                    0\n",
            "mta_tax                  0\n",
            "tip_amount               0\n",
            "tolls_amount             0\n",
            "improvement_surcharge    0\n",
            "total_amount             0\n",
            "congestion_surcharge     0\n",
            "airport_fee              0\n",
            "dtype: int64\n"
          ]
        }
      ],
      "source": [
        "# Count the number of 0 values in each column\n",
        "null_counts = df_yellow_taxi.isnull().sum() # This function takes a scalar or array-like object and indicates whether values are missing (NaN in numeric arrays, None or NaN in object arrays, NaT in datetimelike).\n",
        "print(null_counts)"
      ]
    },
    {
      "cell_type": "markdown",
      "metadata": {
        "id": "nhxBKIsJiYBo"
      },
      "source": [
        "On n'a plus aucune valeur null/NA dans les autres colonnes"
      ]
    },
    {
      "cell_type": "code",
      "execution_count": 11,
      "metadata": {
        "colab": {
          "base_uri": "https://localhost:8080/"
        },
        "id": "b5TD3o0Zdl3e",
        "outputId": "7fb2bd41-f932-49a6-c77c-8a8dba0d1386"
      },
      "outputs": [
        {
          "output_type": "stream",
          "name": "stdout",
          "text": [
            "0\n"
          ]
        }
      ],
      "source": [
        "# Compte le nombre de dupplicated raws\n",
        "duplicate_rows = df_yellow_taxi[df_yellow_taxi.duplicated()]\n",
        "num_duplicates = len(duplicate_rows)\n",
        "print(num_duplicates)\n",
        "#aucune"
      ]
    },
    {
      "cell_type": "code",
      "execution_count": 12,
      "metadata": {
        "id": "E4TrbxqpqUlZ"
      },
      "outputs": [],
      "source": [
        "#ajout d'une variable temps de trajet\n",
        "df_yellow_taxi['trip_duration'] = (df_yellow_taxi['tpep_dropoff_datetime'] - df_yellow_taxi['tpep_pickup_datetime']).dt.total_seconds()"
      ]
    },
    {
      "cell_type": "code",
      "execution_count": 13,
      "metadata": {
        "colab": {
          "base_uri": "https://localhost:8080/",
          "height": 0
        },
        "id": "mb0A3VwurKIT",
        "outputId": "d9d9bb24-4099-48d6-9606-086532b82d07"
      },
      "outputs": [
        {
          "output_type": "execute_result",
          "data": {
            "text/plain": [
              "         VendorID tpep_pickup_datetime tpep_dropoff_datetime  passenger_count  \\\n",
              "0               1  2022-01-01 00:35:40   2022-01-01 00:53:29              2.0   \n",
              "1               1  2022-01-01 00:33:43   2022-01-01 00:42:07              1.0   \n",
              "2               2  2022-01-01 00:53:21   2022-01-01 01:02:19              1.0   \n",
              "3               2  2022-01-01 00:25:21   2022-01-01 00:35:23              1.0   \n",
              "4               2  2022-01-01 00:36:48   2022-01-01 01:14:20              1.0   \n",
              "...           ...                  ...                   ...              ...   \n",
              "2392423         1  2022-01-31 23:24:28   2022-01-31 23:32:47              1.0   \n",
              "2392424         2  2022-01-31 23:17:44   2022-01-31 23:22:05              1.0   \n",
              "2392425         2  2022-01-31 23:26:41   2022-01-31 23:34:54              1.0   \n",
              "2392426         2  2022-01-31 23:37:41   2022-01-31 23:45:26              1.0   \n",
              "2392427         2  2022-01-31 23:43:22   2022-01-31 23:55:36              1.0   \n",
              "\n",
              "         trip_distance  RatecodeID store_and_fwd_flag  PULocationID  \\\n",
              "0                 3.80         1.0                  N           142   \n",
              "1                 2.10         1.0                  N           236   \n",
              "2                 0.97         1.0                  N           166   \n",
              "3                 1.09         1.0                  N           114   \n",
              "4                 4.30         1.0                  N            68   \n",
              "...                ...         ...                ...           ...   \n",
              "2392423           1.50         1.0                  N           163   \n",
              "2392424           1.02         1.0                  N           249   \n",
              "2392425           1.53         1.0                  N            68   \n",
              "2392426           1.59         1.0                  N            90   \n",
              "2392427           4.04         1.0                  N           140   \n",
              "\n",
              "         DOLocationID  payment_type  fare_amount  extra  mta_tax  tip_amount  \\\n",
              "0                 236             1         14.5    3.0      0.5        3.65   \n",
              "1                  42             1          8.0    0.5      0.5        4.00   \n",
              "2                 166             1          7.5    0.5      0.5        1.76   \n",
              "3                  68             2          8.0    0.5      0.5        0.00   \n",
              "4                 163             1         23.5    0.5      0.5        3.00   \n",
              "...               ...           ...          ...    ...      ...         ...   \n",
              "2392423           143             2          7.5    3.0      0.5        0.00   \n",
              "2392424            68             1          5.5    0.5      0.5        1.86   \n",
              "2392425            90             1          8.0    0.5      0.5        2.95   \n",
              "2392426            79             1          7.5    0.5      0.5        2.26   \n",
              "2392427            24             1         13.5    0.5      0.5        3.46   \n",
              "\n",
              "         tolls_amount  improvement_surcharge  total_amount  \\\n",
              "0                 0.0                    0.3         21.95   \n",
              "1                 0.0                    0.3         13.30   \n",
              "2                 0.0                    0.3         10.56   \n",
              "3                 0.0                    0.3         11.80   \n",
              "4                 0.0                    0.3         30.30   \n",
              "...               ...                    ...           ...   \n",
              "2392423           0.0                    0.3         11.30   \n",
              "2392424           0.0                    0.3         11.16   \n",
              "2392425           0.0                    0.3         14.75   \n",
              "2392426           0.0                    0.3         13.56   \n",
              "2392427           0.0                    0.3         20.76   \n",
              "\n",
              "         congestion_surcharge  airport_fee  trip_duration  \n",
              "0                         2.5          0.0         1069.0  \n",
              "1                         0.0          0.0          504.0  \n",
              "2                         0.0          0.0          538.0  \n",
              "3                         2.5          0.0          602.0  \n",
              "4                         2.5          0.0         2252.0  \n",
              "...                       ...          ...            ...  \n",
              "2392423                   2.5          0.0          499.0  \n",
              "2392424                   2.5          0.0          261.0  \n",
              "2392425                   2.5          0.0          493.0  \n",
              "2392426                   2.5          0.0          465.0  \n",
              "2392427                   2.5          0.0          734.0  \n",
              "\n",
              "[2392428 rows x 20 columns]"
            ],
            "text/html": [
              "\n",
              "  <div id=\"df-febab156-92b5-4dd6-818c-c1147c7892d1\">\n",
              "    <div class=\"colab-df-container\">\n",
              "      <div>\n",
              "<style scoped>\n",
              "    .dataframe tbody tr th:only-of-type {\n",
              "        vertical-align: middle;\n",
              "    }\n",
              "\n",
              "    .dataframe tbody tr th {\n",
              "        vertical-align: top;\n",
              "    }\n",
              "\n",
              "    .dataframe thead th {\n",
              "        text-align: right;\n",
              "    }\n",
              "</style>\n",
              "<table border=\"1\" class=\"dataframe\">\n",
              "  <thead>\n",
              "    <tr style=\"text-align: right;\">\n",
              "      <th></th>\n",
              "      <th>VendorID</th>\n",
              "      <th>tpep_pickup_datetime</th>\n",
              "      <th>tpep_dropoff_datetime</th>\n",
              "      <th>passenger_count</th>\n",
              "      <th>trip_distance</th>\n",
              "      <th>RatecodeID</th>\n",
              "      <th>store_and_fwd_flag</th>\n",
              "      <th>PULocationID</th>\n",
              "      <th>DOLocationID</th>\n",
              "      <th>payment_type</th>\n",
              "      <th>fare_amount</th>\n",
              "      <th>extra</th>\n",
              "      <th>mta_tax</th>\n",
              "      <th>tip_amount</th>\n",
              "      <th>tolls_amount</th>\n",
              "      <th>improvement_surcharge</th>\n",
              "      <th>total_amount</th>\n",
              "      <th>congestion_surcharge</th>\n",
              "      <th>airport_fee</th>\n",
              "      <th>trip_duration</th>\n",
              "    </tr>\n",
              "  </thead>\n",
              "  <tbody>\n",
              "    <tr>\n",
              "      <th>0</th>\n",
              "      <td>1</td>\n",
              "      <td>2022-01-01 00:35:40</td>\n",
              "      <td>2022-01-01 00:53:29</td>\n",
              "      <td>2.0</td>\n",
              "      <td>3.80</td>\n",
              "      <td>1.0</td>\n",
              "      <td>N</td>\n",
              "      <td>142</td>\n",
              "      <td>236</td>\n",
              "      <td>1</td>\n",
              "      <td>14.5</td>\n",
              "      <td>3.0</td>\n",
              "      <td>0.5</td>\n",
              "      <td>3.65</td>\n",
              "      <td>0.0</td>\n",
              "      <td>0.3</td>\n",
              "      <td>21.95</td>\n",
              "      <td>2.5</td>\n",
              "      <td>0.0</td>\n",
              "      <td>1069.0</td>\n",
              "    </tr>\n",
              "    <tr>\n",
              "      <th>1</th>\n",
              "      <td>1</td>\n",
              "      <td>2022-01-01 00:33:43</td>\n",
              "      <td>2022-01-01 00:42:07</td>\n",
              "      <td>1.0</td>\n",
              "      <td>2.10</td>\n",
              "      <td>1.0</td>\n",
              "      <td>N</td>\n",
              "      <td>236</td>\n",
              "      <td>42</td>\n",
              "      <td>1</td>\n",
              "      <td>8.0</td>\n",
              "      <td>0.5</td>\n",
              "      <td>0.5</td>\n",
              "      <td>4.00</td>\n",
              "      <td>0.0</td>\n",
              "      <td>0.3</td>\n",
              "      <td>13.30</td>\n",
              "      <td>0.0</td>\n",
              "      <td>0.0</td>\n",
              "      <td>504.0</td>\n",
              "    </tr>\n",
              "    <tr>\n",
              "      <th>2</th>\n",
              "      <td>2</td>\n",
              "      <td>2022-01-01 00:53:21</td>\n",
              "      <td>2022-01-01 01:02:19</td>\n",
              "      <td>1.0</td>\n",
              "      <td>0.97</td>\n",
              "      <td>1.0</td>\n",
              "      <td>N</td>\n",
              "      <td>166</td>\n",
              "      <td>166</td>\n",
              "      <td>1</td>\n",
              "      <td>7.5</td>\n",
              "      <td>0.5</td>\n",
              "      <td>0.5</td>\n",
              "      <td>1.76</td>\n",
              "      <td>0.0</td>\n",
              "      <td>0.3</td>\n",
              "      <td>10.56</td>\n",
              "      <td>0.0</td>\n",
              "      <td>0.0</td>\n",
              "      <td>538.0</td>\n",
              "    </tr>\n",
              "    <tr>\n",
              "      <th>3</th>\n",
              "      <td>2</td>\n",
              "      <td>2022-01-01 00:25:21</td>\n",
              "      <td>2022-01-01 00:35:23</td>\n",
              "      <td>1.0</td>\n",
              "      <td>1.09</td>\n",
              "      <td>1.0</td>\n",
              "      <td>N</td>\n",
              "      <td>114</td>\n",
              "      <td>68</td>\n",
              "      <td>2</td>\n",
              "      <td>8.0</td>\n",
              "      <td>0.5</td>\n",
              "      <td>0.5</td>\n",
              "      <td>0.00</td>\n",
              "      <td>0.0</td>\n",
              "      <td>0.3</td>\n",
              "      <td>11.80</td>\n",
              "      <td>2.5</td>\n",
              "      <td>0.0</td>\n",
              "      <td>602.0</td>\n",
              "    </tr>\n",
              "    <tr>\n",
              "      <th>4</th>\n",
              "      <td>2</td>\n",
              "      <td>2022-01-01 00:36:48</td>\n",
              "      <td>2022-01-01 01:14:20</td>\n",
              "      <td>1.0</td>\n",
              "      <td>4.30</td>\n",
              "      <td>1.0</td>\n",
              "      <td>N</td>\n",
              "      <td>68</td>\n",
              "      <td>163</td>\n",
              "      <td>1</td>\n",
              "      <td>23.5</td>\n",
              "      <td>0.5</td>\n",
              "      <td>0.5</td>\n",
              "      <td>3.00</td>\n",
              "      <td>0.0</td>\n",
              "      <td>0.3</td>\n",
              "      <td>30.30</td>\n",
              "      <td>2.5</td>\n",
              "      <td>0.0</td>\n",
              "      <td>2252.0</td>\n",
              "    </tr>\n",
              "    <tr>\n",
              "      <th>...</th>\n",
              "      <td>...</td>\n",
              "      <td>...</td>\n",
              "      <td>...</td>\n",
              "      <td>...</td>\n",
              "      <td>...</td>\n",
              "      <td>...</td>\n",
              "      <td>...</td>\n",
              "      <td>...</td>\n",
              "      <td>...</td>\n",
              "      <td>...</td>\n",
              "      <td>...</td>\n",
              "      <td>...</td>\n",
              "      <td>...</td>\n",
              "      <td>...</td>\n",
              "      <td>...</td>\n",
              "      <td>...</td>\n",
              "      <td>...</td>\n",
              "      <td>...</td>\n",
              "      <td>...</td>\n",
              "      <td>...</td>\n",
              "    </tr>\n",
              "    <tr>\n",
              "      <th>2392423</th>\n",
              "      <td>1</td>\n",
              "      <td>2022-01-31 23:24:28</td>\n",
              "      <td>2022-01-31 23:32:47</td>\n",
              "      <td>1.0</td>\n",
              "      <td>1.50</td>\n",
              "      <td>1.0</td>\n",
              "      <td>N</td>\n",
              "      <td>163</td>\n",
              "      <td>143</td>\n",
              "      <td>2</td>\n",
              "      <td>7.5</td>\n",
              "      <td>3.0</td>\n",
              "      <td>0.5</td>\n",
              "      <td>0.00</td>\n",
              "      <td>0.0</td>\n",
              "      <td>0.3</td>\n",
              "      <td>11.30</td>\n",
              "      <td>2.5</td>\n",
              "      <td>0.0</td>\n",
              "      <td>499.0</td>\n",
              "    </tr>\n",
              "    <tr>\n",
              "      <th>2392424</th>\n",
              "      <td>2</td>\n",
              "      <td>2022-01-31 23:17:44</td>\n",
              "      <td>2022-01-31 23:22:05</td>\n",
              "      <td>1.0</td>\n",
              "      <td>1.02</td>\n",
              "      <td>1.0</td>\n",
              "      <td>N</td>\n",
              "      <td>249</td>\n",
              "      <td>68</td>\n",
              "      <td>1</td>\n",
              "      <td>5.5</td>\n",
              "      <td>0.5</td>\n",
              "      <td>0.5</td>\n",
              "      <td>1.86</td>\n",
              "      <td>0.0</td>\n",
              "      <td>0.3</td>\n",
              "      <td>11.16</td>\n",
              "      <td>2.5</td>\n",
              "      <td>0.0</td>\n",
              "      <td>261.0</td>\n",
              "    </tr>\n",
              "    <tr>\n",
              "      <th>2392425</th>\n",
              "      <td>2</td>\n",
              "      <td>2022-01-31 23:26:41</td>\n",
              "      <td>2022-01-31 23:34:54</td>\n",
              "      <td>1.0</td>\n",
              "      <td>1.53</td>\n",
              "      <td>1.0</td>\n",
              "      <td>N</td>\n",
              "      <td>68</td>\n",
              "      <td>90</td>\n",
              "      <td>1</td>\n",
              "      <td>8.0</td>\n",
              "      <td>0.5</td>\n",
              "      <td>0.5</td>\n",
              "      <td>2.95</td>\n",
              "      <td>0.0</td>\n",
              "      <td>0.3</td>\n",
              "      <td>14.75</td>\n",
              "      <td>2.5</td>\n",
              "      <td>0.0</td>\n",
              "      <td>493.0</td>\n",
              "    </tr>\n",
              "    <tr>\n",
              "      <th>2392426</th>\n",
              "      <td>2</td>\n",
              "      <td>2022-01-31 23:37:41</td>\n",
              "      <td>2022-01-31 23:45:26</td>\n",
              "      <td>1.0</td>\n",
              "      <td>1.59</td>\n",
              "      <td>1.0</td>\n",
              "      <td>N</td>\n",
              "      <td>90</td>\n",
              "      <td>79</td>\n",
              "      <td>1</td>\n",
              "      <td>7.5</td>\n",
              "      <td>0.5</td>\n",
              "      <td>0.5</td>\n",
              "      <td>2.26</td>\n",
              "      <td>0.0</td>\n",
              "      <td>0.3</td>\n",
              "      <td>13.56</td>\n",
              "      <td>2.5</td>\n",
              "      <td>0.0</td>\n",
              "      <td>465.0</td>\n",
              "    </tr>\n",
              "    <tr>\n",
              "      <th>2392427</th>\n",
              "      <td>2</td>\n",
              "      <td>2022-01-31 23:43:22</td>\n",
              "      <td>2022-01-31 23:55:36</td>\n",
              "      <td>1.0</td>\n",
              "      <td>4.04</td>\n",
              "      <td>1.0</td>\n",
              "      <td>N</td>\n",
              "      <td>140</td>\n",
              "      <td>24</td>\n",
              "      <td>1</td>\n",
              "      <td>13.5</td>\n",
              "      <td>0.5</td>\n",
              "      <td>0.5</td>\n",
              "      <td>3.46</td>\n",
              "      <td>0.0</td>\n",
              "      <td>0.3</td>\n",
              "      <td>20.76</td>\n",
              "      <td>2.5</td>\n",
              "      <td>0.0</td>\n",
              "      <td>734.0</td>\n",
              "    </tr>\n",
              "  </tbody>\n",
              "</table>\n",
              "<p>2392428 rows × 20 columns</p>\n",
              "</div>\n",
              "      <button class=\"colab-df-convert\" onclick=\"convertToInteractive('df-febab156-92b5-4dd6-818c-c1147c7892d1')\"\n",
              "              title=\"Convert this dataframe to an interactive table.\"\n",
              "              style=\"display:none;\">\n",
              "        \n",
              "  <svg xmlns=\"http://www.w3.org/2000/svg\" height=\"24px\"viewBox=\"0 0 24 24\"\n",
              "       width=\"24px\">\n",
              "    <path d=\"M0 0h24v24H0V0z\" fill=\"none\"/>\n",
              "    <path d=\"M18.56 5.44l.94 2.06.94-2.06 2.06-.94-2.06-.94-.94-2.06-.94 2.06-2.06.94zm-11 1L8.5 8.5l.94-2.06 2.06-.94-2.06-.94L8.5 2.5l-.94 2.06-2.06.94zm10 10l.94 2.06.94-2.06 2.06-.94-2.06-.94-.94-2.06-.94 2.06-2.06.94z\"/><path d=\"M17.41 7.96l-1.37-1.37c-.4-.4-.92-.59-1.43-.59-.52 0-1.04.2-1.43.59L10.3 9.45l-7.72 7.72c-.78.78-.78 2.05 0 2.83L4 21.41c.39.39.9.59 1.41.59.51 0 1.02-.2 1.41-.59l7.78-7.78 2.81-2.81c.8-.78.8-2.07 0-2.86zM5.41 20L4 18.59l7.72-7.72 1.47 1.35L5.41 20z\"/>\n",
              "  </svg>\n",
              "      </button>\n",
              "      \n",
              "  <style>\n",
              "    .colab-df-container {\n",
              "      display:flex;\n",
              "      flex-wrap:wrap;\n",
              "      gap: 12px;\n",
              "    }\n",
              "\n",
              "    .colab-df-convert {\n",
              "      background-color: #E8F0FE;\n",
              "      border: none;\n",
              "      border-radius: 50%;\n",
              "      cursor: pointer;\n",
              "      display: none;\n",
              "      fill: #1967D2;\n",
              "      height: 32px;\n",
              "      padding: 0 0 0 0;\n",
              "      width: 32px;\n",
              "    }\n",
              "\n",
              "    .colab-df-convert:hover {\n",
              "      background-color: #E2EBFA;\n",
              "      box-shadow: 0px 1px 2px rgba(60, 64, 67, 0.3), 0px 1px 3px 1px rgba(60, 64, 67, 0.15);\n",
              "      fill: #174EA6;\n",
              "    }\n",
              "\n",
              "    [theme=dark] .colab-df-convert {\n",
              "      background-color: #3B4455;\n",
              "      fill: #D2E3FC;\n",
              "    }\n",
              "\n",
              "    [theme=dark] .colab-df-convert:hover {\n",
              "      background-color: #434B5C;\n",
              "      box-shadow: 0px 1px 3px 1px rgba(0, 0, 0, 0.15);\n",
              "      filter: drop-shadow(0px 1px 2px rgba(0, 0, 0, 0.3));\n",
              "      fill: #FFFFFF;\n",
              "    }\n",
              "  </style>\n",
              "\n",
              "      <script>\n",
              "        const buttonEl =\n",
              "          document.querySelector('#df-febab156-92b5-4dd6-818c-c1147c7892d1 button.colab-df-convert');\n",
              "        buttonEl.style.display =\n",
              "          google.colab.kernel.accessAllowed ? 'block' : 'none';\n",
              "\n",
              "        async function convertToInteractive(key) {\n",
              "          const element = document.querySelector('#df-febab156-92b5-4dd6-818c-c1147c7892d1');\n",
              "          const dataTable =\n",
              "            await google.colab.kernel.invokeFunction('convertToInteractive',\n",
              "                                                     [key], {});\n",
              "          if (!dataTable) return;\n",
              "\n",
              "          const docLinkHtml = 'Like what you see? Visit the ' +\n",
              "            '<a target=\"_blank\" href=https://colab.research.google.com/notebooks/data_table.ipynb>data table notebook</a>'\n",
              "            + ' to learn more about interactive tables.';\n",
              "          element.innerHTML = '';\n",
              "          dataTable['output_type'] = 'display_data';\n",
              "          await google.colab.output.renderOutput(dataTable, element);\n",
              "          const docLink = document.createElement('div');\n",
              "          docLink.innerHTML = docLinkHtml;\n",
              "          element.appendChild(docLink);\n",
              "        }\n",
              "      </script>\n",
              "    </div>\n",
              "  </div>\n",
              "  "
            ]
          },
          "metadata": {},
          "execution_count": 13
        }
      ],
      "source": [
        "# Reset the index\n",
        "df_yellow_taxi = df_yellow_taxi.reset_index(drop=True)\n",
        "df_yellow_taxi"
      ]
    },
    {
      "cell_type": "code",
      "execution_count": 14,
      "metadata": {
        "colab": {
          "base_uri": "https://localhost:8080/",
          "height": 0
        },
        "id": "bN4d9xNK-8ns",
        "outputId": "39bc3dd0-79b3-4493-caba-3acf72049473"
      },
      "outputs": [
        {
          "output_type": "execute_result",
          "data": {
            "text/plain": [
              "         VendorID tpep_pickup_datetime tpep_dropoff_datetime  passenger_count  \\\n",
              "0               1  2022-01-01 00:35:40   2022-01-01 00:53:29              2.0   \n",
              "1               1  2022-01-01 00:33:43   2022-01-01 00:42:07              1.0   \n",
              "2               2  2022-01-01 00:53:21   2022-01-01 01:02:19              1.0   \n",
              "3               2  2022-01-01 00:25:21   2022-01-01 00:35:23              1.0   \n",
              "4               2  2022-01-01 00:36:48   2022-01-01 01:14:20              1.0   \n",
              "...           ...                  ...                   ...              ...   \n",
              "2392423         1  2022-01-31 23:24:28   2022-01-31 23:32:47              1.0   \n",
              "2392424         2  2022-01-31 23:17:44   2022-01-31 23:22:05              1.0   \n",
              "2392425         2  2022-01-31 23:26:41   2022-01-31 23:34:54              1.0   \n",
              "2392426         2  2022-01-31 23:37:41   2022-01-31 23:45:26              1.0   \n",
              "2392427         2  2022-01-31 23:43:22   2022-01-31 23:55:36              1.0   \n",
              "\n",
              "         trip_distance  RatecodeID store_and_fwd_flag  PULocationID  \\\n",
              "0                 3.80         1.0                  N           142   \n",
              "1                 2.10         1.0                  N           236   \n",
              "2                 0.97         1.0                  N           166   \n",
              "3                 1.09         1.0                  N           114   \n",
              "4                 4.30         1.0                  N            68   \n",
              "...                ...         ...                ...           ...   \n",
              "2392423           1.50         1.0                  N           163   \n",
              "2392424           1.02         1.0                  N           249   \n",
              "2392425           1.53         1.0                  N            68   \n",
              "2392426           1.59         1.0                  N            90   \n",
              "2392427           4.04         1.0                  N           140   \n",
              "\n",
              "         DOLocationID  payment_type  fare_amount  extra  mta_tax  tip_amount  \\\n",
              "0                 236             1         14.5    3.0      0.5        3.65   \n",
              "1                  42             1          8.0    0.5      0.5        4.00   \n",
              "2                 166             1          7.5    0.5      0.5        1.76   \n",
              "3                  68             2          8.0    0.5      0.5        0.00   \n",
              "4                 163             1         23.5    0.5      0.5        3.00   \n",
              "...               ...           ...          ...    ...      ...         ...   \n",
              "2392423           143             2          7.5    3.0      0.5        0.00   \n",
              "2392424            68             1          5.5    0.5      0.5        1.86   \n",
              "2392425            90             1          8.0    0.5      0.5        2.95   \n",
              "2392426            79             1          7.5    0.5      0.5        2.26   \n",
              "2392427            24             1         13.5    0.5      0.5        3.46   \n",
              "\n",
              "         tolls_amount  improvement_surcharge  total_amount  \\\n",
              "0                 0.0                    0.3         21.95   \n",
              "1                 0.0                    0.3         13.30   \n",
              "2                 0.0                    0.3         10.56   \n",
              "3                 0.0                    0.3         11.80   \n",
              "4                 0.0                    0.3         30.30   \n",
              "...               ...                    ...           ...   \n",
              "2392423           0.0                    0.3         11.30   \n",
              "2392424           0.0                    0.3         11.16   \n",
              "2392425           0.0                    0.3         14.75   \n",
              "2392426           0.0                    0.3         13.56   \n",
              "2392427           0.0                    0.3         20.76   \n",
              "\n",
              "         congestion_surcharge  airport_fee  trip_duration  \n",
              "0                         2.5          0.0         1069.0  \n",
              "1                         0.0          0.0          504.0  \n",
              "2                         0.0          0.0          538.0  \n",
              "3                         2.5          0.0          602.0  \n",
              "4                         2.5          0.0         2252.0  \n",
              "...                       ...          ...            ...  \n",
              "2392423                   2.5          0.0          499.0  \n",
              "2392424                   2.5          0.0          261.0  \n",
              "2392425                   2.5          0.0          493.0  \n",
              "2392426                   2.5          0.0          465.0  \n",
              "2392427                   2.5          0.0          734.0  \n",
              "\n",
              "[2392428 rows x 20 columns]"
            ],
            "text/html": [
              "\n",
              "  <div id=\"df-1484724f-237e-4000-9798-bca3c9769bd6\">\n",
              "    <div class=\"colab-df-container\">\n",
              "      <div>\n",
              "<style scoped>\n",
              "    .dataframe tbody tr th:only-of-type {\n",
              "        vertical-align: middle;\n",
              "    }\n",
              "\n",
              "    .dataframe tbody tr th {\n",
              "        vertical-align: top;\n",
              "    }\n",
              "\n",
              "    .dataframe thead th {\n",
              "        text-align: right;\n",
              "    }\n",
              "</style>\n",
              "<table border=\"1\" class=\"dataframe\">\n",
              "  <thead>\n",
              "    <tr style=\"text-align: right;\">\n",
              "      <th></th>\n",
              "      <th>VendorID</th>\n",
              "      <th>tpep_pickup_datetime</th>\n",
              "      <th>tpep_dropoff_datetime</th>\n",
              "      <th>passenger_count</th>\n",
              "      <th>trip_distance</th>\n",
              "      <th>RatecodeID</th>\n",
              "      <th>store_and_fwd_flag</th>\n",
              "      <th>PULocationID</th>\n",
              "      <th>DOLocationID</th>\n",
              "      <th>payment_type</th>\n",
              "      <th>fare_amount</th>\n",
              "      <th>extra</th>\n",
              "      <th>mta_tax</th>\n",
              "      <th>tip_amount</th>\n",
              "      <th>tolls_amount</th>\n",
              "      <th>improvement_surcharge</th>\n",
              "      <th>total_amount</th>\n",
              "      <th>congestion_surcharge</th>\n",
              "      <th>airport_fee</th>\n",
              "      <th>trip_duration</th>\n",
              "    </tr>\n",
              "  </thead>\n",
              "  <tbody>\n",
              "    <tr>\n",
              "      <th>0</th>\n",
              "      <td>1</td>\n",
              "      <td>2022-01-01 00:35:40</td>\n",
              "      <td>2022-01-01 00:53:29</td>\n",
              "      <td>2.0</td>\n",
              "      <td>3.80</td>\n",
              "      <td>1.0</td>\n",
              "      <td>N</td>\n",
              "      <td>142</td>\n",
              "      <td>236</td>\n",
              "      <td>1</td>\n",
              "      <td>14.5</td>\n",
              "      <td>3.0</td>\n",
              "      <td>0.5</td>\n",
              "      <td>3.65</td>\n",
              "      <td>0.0</td>\n",
              "      <td>0.3</td>\n",
              "      <td>21.95</td>\n",
              "      <td>2.5</td>\n",
              "      <td>0.0</td>\n",
              "      <td>1069.0</td>\n",
              "    </tr>\n",
              "    <tr>\n",
              "      <th>1</th>\n",
              "      <td>1</td>\n",
              "      <td>2022-01-01 00:33:43</td>\n",
              "      <td>2022-01-01 00:42:07</td>\n",
              "      <td>1.0</td>\n",
              "      <td>2.10</td>\n",
              "      <td>1.0</td>\n",
              "      <td>N</td>\n",
              "      <td>236</td>\n",
              "      <td>42</td>\n",
              "      <td>1</td>\n",
              "      <td>8.0</td>\n",
              "      <td>0.5</td>\n",
              "      <td>0.5</td>\n",
              "      <td>4.00</td>\n",
              "      <td>0.0</td>\n",
              "      <td>0.3</td>\n",
              "      <td>13.30</td>\n",
              "      <td>0.0</td>\n",
              "      <td>0.0</td>\n",
              "      <td>504.0</td>\n",
              "    </tr>\n",
              "    <tr>\n",
              "      <th>2</th>\n",
              "      <td>2</td>\n",
              "      <td>2022-01-01 00:53:21</td>\n",
              "      <td>2022-01-01 01:02:19</td>\n",
              "      <td>1.0</td>\n",
              "      <td>0.97</td>\n",
              "      <td>1.0</td>\n",
              "      <td>N</td>\n",
              "      <td>166</td>\n",
              "      <td>166</td>\n",
              "      <td>1</td>\n",
              "      <td>7.5</td>\n",
              "      <td>0.5</td>\n",
              "      <td>0.5</td>\n",
              "      <td>1.76</td>\n",
              "      <td>0.0</td>\n",
              "      <td>0.3</td>\n",
              "      <td>10.56</td>\n",
              "      <td>0.0</td>\n",
              "      <td>0.0</td>\n",
              "      <td>538.0</td>\n",
              "    </tr>\n",
              "    <tr>\n",
              "      <th>3</th>\n",
              "      <td>2</td>\n",
              "      <td>2022-01-01 00:25:21</td>\n",
              "      <td>2022-01-01 00:35:23</td>\n",
              "      <td>1.0</td>\n",
              "      <td>1.09</td>\n",
              "      <td>1.0</td>\n",
              "      <td>N</td>\n",
              "      <td>114</td>\n",
              "      <td>68</td>\n",
              "      <td>2</td>\n",
              "      <td>8.0</td>\n",
              "      <td>0.5</td>\n",
              "      <td>0.5</td>\n",
              "      <td>0.00</td>\n",
              "      <td>0.0</td>\n",
              "      <td>0.3</td>\n",
              "      <td>11.80</td>\n",
              "      <td>2.5</td>\n",
              "      <td>0.0</td>\n",
              "      <td>602.0</td>\n",
              "    </tr>\n",
              "    <tr>\n",
              "      <th>4</th>\n",
              "      <td>2</td>\n",
              "      <td>2022-01-01 00:36:48</td>\n",
              "      <td>2022-01-01 01:14:20</td>\n",
              "      <td>1.0</td>\n",
              "      <td>4.30</td>\n",
              "      <td>1.0</td>\n",
              "      <td>N</td>\n",
              "      <td>68</td>\n",
              "      <td>163</td>\n",
              "      <td>1</td>\n",
              "      <td>23.5</td>\n",
              "      <td>0.5</td>\n",
              "      <td>0.5</td>\n",
              "      <td>3.00</td>\n",
              "      <td>0.0</td>\n",
              "      <td>0.3</td>\n",
              "      <td>30.30</td>\n",
              "      <td>2.5</td>\n",
              "      <td>0.0</td>\n",
              "      <td>2252.0</td>\n",
              "    </tr>\n",
              "    <tr>\n",
              "      <th>...</th>\n",
              "      <td>...</td>\n",
              "      <td>...</td>\n",
              "      <td>...</td>\n",
              "      <td>...</td>\n",
              "      <td>...</td>\n",
              "      <td>...</td>\n",
              "      <td>...</td>\n",
              "      <td>...</td>\n",
              "      <td>...</td>\n",
              "      <td>...</td>\n",
              "      <td>...</td>\n",
              "      <td>...</td>\n",
              "      <td>...</td>\n",
              "      <td>...</td>\n",
              "      <td>...</td>\n",
              "      <td>...</td>\n",
              "      <td>...</td>\n",
              "      <td>...</td>\n",
              "      <td>...</td>\n",
              "      <td>...</td>\n",
              "    </tr>\n",
              "    <tr>\n",
              "      <th>2392423</th>\n",
              "      <td>1</td>\n",
              "      <td>2022-01-31 23:24:28</td>\n",
              "      <td>2022-01-31 23:32:47</td>\n",
              "      <td>1.0</td>\n",
              "      <td>1.50</td>\n",
              "      <td>1.0</td>\n",
              "      <td>N</td>\n",
              "      <td>163</td>\n",
              "      <td>143</td>\n",
              "      <td>2</td>\n",
              "      <td>7.5</td>\n",
              "      <td>3.0</td>\n",
              "      <td>0.5</td>\n",
              "      <td>0.00</td>\n",
              "      <td>0.0</td>\n",
              "      <td>0.3</td>\n",
              "      <td>11.30</td>\n",
              "      <td>2.5</td>\n",
              "      <td>0.0</td>\n",
              "      <td>499.0</td>\n",
              "    </tr>\n",
              "    <tr>\n",
              "      <th>2392424</th>\n",
              "      <td>2</td>\n",
              "      <td>2022-01-31 23:17:44</td>\n",
              "      <td>2022-01-31 23:22:05</td>\n",
              "      <td>1.0</td>\n",
              "      <td>1.02</td>\n",
              "      <td>1.0</td>\n",
              "      <td>N</td>\n",
              "      <td>249</td>\n",
              "      <td>68</td>\n",
              "      <td>1</td>\n",
              "      <td>5.5</td>\n",
              "      <td>0.5</td>\n",
              "      <td>0.5</td>\n",
              "      <td>1.86</td>\n",
              "      <td>0.0</td>\n",
              "      <td>0.3</td>\n",
              "      <td>11.16</td>\n",
              "      <td>2.5</td>\n",
              "      <td>0.0</td>\n",
              "      <td>261.0</td>\n",
              "    </tr>\n",
              "    <tr>\n",
              "      <th>2392425</th>\n",
              "      <td>2</td>\n",
              "      <td>2022-01-31 23:26:41</td>\n",
              "      <td>2022-01-31 23:34:54</td>\n",
              "      <td>1.0</td>\n",
              "      <td>1.53</td>\n",
              "      <td>1.0</td>\n",
              "      <td>N</td>\n",
              "      <td>68</td>\n",
              "      <td>90</td>\n",
              "      <td>1</td>\n",
              "      <td>8.0</td>\n",
              "      <td>0.5</td>\n",
              "      <td>0.5</td>\n",
              "      <td>2.95</td>\n",
              "      <td>0.0</td>\n",
              "      <td>0.3</td>\n",
              "      <td>14.75</td>\n",
              "      <td>2.5</td>\n",
              "      <td>0.0</td>\n",
              "      <td>493.0</td>\n",
              "    </tr>\n",
              "    <tr>\n",
              "      <th>2392426</th>\n",
              "      <td>2</td>\n",
              "      <td>2022-01-31 23:37:41</td>\n",
              "      <td>2022-01-31 23:45:26</td>\n",
              "      <td>1.0</td>\n",
              "      <td>1.59</td>\n",
              "      <td>1.0</td>\n",
              "      <td>N</td>\n",
              "      <td>90</td>\n",
              "      <td>79</td>\n",
              "      <td>1</td>\n",
              "      <td>7.5</td>\n",
              "      <td>0.5</td>\n",
              "      <td>0.5</td>\n",
              "      <td>2.26</td>\n",
              "      <td>0.0</td>\n",
              "      <td>0.3</td>\n",
              "      <td>13.56</td>\n",
              "      <td>2.5</td>\n",
              "      <td>0.0</td>\n",
              "      <td>465.0</td>\n",
              "    </tr>\n",
              "    <tr>\n",
              "      <th>2392427</th>\n",
              "      <td>2</td>\n",
              "      <td>2022-01-31 23:43:22</td>\n",
              "      <td>2022-01-31 23:55:36</td>\n",
              "      <td>1.0</td>\n",
              "      <td>4.04</td>\n",
              "      <td>1.0</td>\n",
              "      <td>N</td>\n",
              "      <td>140</td>\n",
              "      <td>24</td>\n",
              "      <td>1</td>\n",
              "      <td>13.5</td>\n",
              "      <td>0.5</td>\n",
              "      <td>0.5</td>\n",
              "      <td>3.46</td>\n",
              "      <td>0.0</td>\n",
              "      <td>0.3</td>\n",
              "      <td>20.76</td>\n",
              "      <td>2.5</td>\n",
              "      <td>0.0</td>\n",
              "      <td>734.0</td>\n",
              "    </tr>\n",
              "  </tbody>\n",
              "</table>\n",
              "<p>2392428 rows × 20 columns</p>\n",
              "</div>\n",
              "      <button class=\"colab-df-convert\" onclick=\"convertToInteractive('df-1484724f-237e-4000-9798-bca3c9769bd6')\"\n",
              "              title=\"Convert this dataframe to an interactive table.\"\n",
              "              style=\"display:none;\">\n",
              "        \n",
              "  <svg xmlns=\"http://www.w3.org/2000/svg\" height=\"24px\"viewBox=\"0 0 24 24\"\n",
              "       width=\"24px\">\n",
              "    <path d=\"M0 0h24v24H0V0z\" fill=\"none\"/>\n",
              "    <path d=\"M18.56 5.44l.94 2.06.94-2.06 2.06-.94-2.06-.94-.94-2.06-.94 2.06-2.06.94zm-11 1L8.5 8.5l.94-2.06 2.06-.94-2.06-.94L8.5 2.5l-.94 2.06-2.06.94zm10 10l.94 2.06.94-2.06 2.06-.94-2.06-.94-.94-2.06-.94 2.06-2.06.94z\"/><path d=\"M17.41 7.96l-1.37-1.37c-.4-.4-.92-.59-1.43-.59-.52 0-1.04.2-1.43.59L10.3 9.45l-7.72 7.72c-.78.78-.78 2.05 0 2.83L4 21.41c.39.39.9.59 1.41.59.51 0 1.02-.2 1.41-.59l7.78-7.78 2.81-2.81c.8-.78.8-2.07 0-2.86zM5.41 20L4 18.59l7.72-7.72 1.47 1.35L5.41 20z\"/>\n",
              "  </svg>\n",
              "      </button>\n",
              "      \n",
              "  <style>\n",
              "    .colab-df-container {\n",
              "      display:flex;\n",
              "      flex-wrap:wrap;\n",
              "      gap: 12px;\n",
              "    }\n",
              "\n",
              "    .colab-df-convert {\n",
              "      background-color: #E8F0FE;\n",
              "      border: none;\n",
              "      border-radius: 50%;\n",
              "      cursor: pointer;\n",
              "      display: none;\n",
              "      fill: #1967D2;\n",
              "      height: 32px;\n",
              "      padding: 0 0 0 0;\n",
              "      width: 32px;\n",
              "    }\n",
              "\n",
              "    .colab-df-convert:hover {\n",
              "      background-color: #E2EBFA;\n",
              "      box-shadow: 0px 1px 2px rgba(60, 64, 67, 0.3), 0px 1px 3px 1px rgba(60, 64, 67, 0.15);\n",
              "      fill: #174EA6;\n",
              "    }\n",
              "\n",
              "    [theme=dark] .colab-df-convert {\n",
              "      background-color: #3B4455;\n",
              "      fill: #D2E3FC;\n",
              "    }\n",
              "\n",
              "    [theme=dark] .colab-df-convert:hover {\n",
              "      background-color: #434B5C;\n",
              "      box-shadow: 0px 1px 3px 1px rgba(0, 0, 0, 0.15);\n",
              "      filter: drop-shadow(0px 1px 2px rgba(0, 0, 0, 0.3));\n",
              "      fill: #FFFFFF;\n",
              "    }\n",
              "  </style>\n",
              "\n",
              "      <script>\n",
              "        const buttonEl =\n",
              "          document.querySelector('#df-1484724f-237e-4000-9798-bca3c9769bd6 button.colab-df-convert');\n",
              "        buttonEl.style.display =\n",
              "          google.colab.kernel.accessAllowed ? 'block' : 'none';\n",
              "\n",
              "        async function convertToInteractive(key) {\n",
              "          const element = document.querySelector('#df-1484724f-237e-4000-9798-bca3c9769bd6');\n",
              "          const dataTable =\n",
              "            await google.colab.kernel.invokeFunction('convertToInteractive',\n",
              "                                                     [key], {});\n",
              "          if (!dataTable) return;\n",
              "\n",
              "          const docLinkHtml = 'Like what you see? Visit the ' +\n",
              "            '<a target=\"_blank\" href=https://colab.research.google.com/notebooks/data_table.ipynb>data table notebook</a>'\n",
              "            + ' to learn more about interactive tables.';\n",
              "          element.innerHTML = '';\n",
              "          dataTable['output_type'] = 'display_data';\n",
              "          await google.colab.output.renderOutput(dataTable, element);\n",
              "          const docLink = document.createElement('div');\n",
              "          docLink.innerHTML = docLinkHtml;\n",
              "          element.appendChild(docLink);\n",
              "        }\n",
              "      </script>\n",
              "    </div>\n",
              "  </div>\n",
              "  "
            ]
          },
          "metadata": {},
          "execution_count": 14
        }
      ],
      "source": [
        "df_yellow_taxi"
      ]
    },
    {
      "cell_type": "markdown",
      "metadata": {
        "id": "S0t8jLvKtimb"
      },
      "source": [
        "# **Prédiction**"
      ]
    },
    {
      "cell_type": "code",
      "execution_count": 15,
      "metadata": {
        "colab": {
          "base_uri": "https://localhost:8080/",
          "height": 488
        },
        "id": "ZY_gZKT-9dRs",
        "outputId": "292ff28e-1029-4ea8-bf63-99cac192f3ff"
      },
      "outputs": [
        {
          "output_type": "execute_result",
          "data": {
            "text/plain": [
              "         VendorID tpep_pickup_datetime tpep_dropoff_datetime  passenger_count  \\\n",
              "0               1  2022-01-01 00:35:40   2022-01-01 00:53:29              2.0   \n",
              "1               1  2022-01-01 00:33:43   2022-01-01 00:42:07              1.0   \n",
              "2               2  2022-01-01 00:53:21   2022-01-01 01:02:19              1.0   \n",
              "3               2  2022-01-01 00:25:21   2022-01-01 00:35:23              1.0   \n",
              "4               2  2022-01-01 00:36:48   2022-01-01 01:14:20              1.0   \n",
              "...           ...                  ...                   ...              ...   \n",
              "2392423         1  2022-01-31 23:24:28   2022-01-31 23:32:47              1.0   \n",
              "2392424         2  2022-01-31 23:17:44   2022-01-31 23:22:05              1.0   \n",
              "2392425         2  2022-01-31 23:26:41   2022-01-31 23:34:54              1.0   \n",
              "2392426         2  2022-01-31 23:37:41   2022-01-31 23:45:26              1.0   \n",
              "2392427         2  2022-01-31 23:43:22   2022-01-31 23:55:36              1.0   \n",
              "\n",
              "         trip_distance  RatecodeID store_and_fwd_flag  PULocationID  \\\n",
              "0                 3.80         1.0                  N           142   \n",
              "1                 2.10         1.0                  N           236   \n",
              "2                 0.97         1.0                  N           166   \n",
              "3                 1.09         1.0                  N           114   \n",
              "4                 4.30         1.0                  N            68   \n",
              "...                ...         ...                ...           ...   \n",
              "2392423           1.50         1.0                  N           163   \n",
              "2392424           1.02         1.0                  N           249   \n",
              "2392425           1.53         1.0                  N            68   \n",
              "2392426           1.59         1.0                  N            90   \n",
              "2392427           4.04         1.0                  N           140   \n",
              "\n",
              "         DOLocationID  payment_type  fare_amount  extra  mta_tax  tip_amount  \\\n",
              "0                 236             1         14.5    3.0      0.5        3.65   \n",
              "1                  42             1          8.0    0.5      0.5        4.00   \n",
              "2                 166             1          7.5    0.5      0.5        1.76   \n",
              "3                  68             2          8.0    0.5      0.5        0.00   \n",
              "4                 163             1         23.5    0.5      0.5        3.00   \n",
              "...               ...           ...          ...    ...      ...         ...   \n",
              "2392423           143             2          7.5    3.0      0.5        0.00   \n",
              "2392424            68             1          5.5    0.5      0.5        1.86   \n",
              "2392425            90             1          8.0    0.5      0.5        2.95   \n",
              "2392426            79             1          7.5    0.5      0.5        2.26   \n",
              "2392427            24             1         13.5    0.5      0.5        3.46   \n",
              "\n",
              "         tolls_amount  improvement_surcharge  total_amount  \\\n",
              "0                 0.0                    0.3         21.95   \n",
              "1                 0.0                    0.3         13.30   \n",
              "2                 0.0                    0.3         10.56   \n",
              "3                 0.0                    0.3         11.80   \n",
              "4                 0.0                    0.3         30.30   \n",
              "...               ...                    ...           ...   \n",
              "2392423           0.0                    0.3         11.30   \n",
              "2392424           0.0                    0.3         11.16   \n",
              "2392425           0.0                    0.3         14.75   \n",
              "2392426           0.0                    0.3         13.56   \n",
              "2392427           0.0                    0.3         20.76   \n",
              "\n",
              "         congestion_surcharge  airport_fee  trip_duration  \n",
              "0                         2.5          0.0         1069.0  \n",
              "1                         0.0          0.0          504.0  \n",
              "2                         0.0          0.0          538.0  \n",
              "3                         2.5          0.0          602.0  \n",
              "4                         2.5          0.0         2252.0  \n",
              "...                       ...          ...            ...  \n",
              "2392423                   2.5          0.0          499.0  \n",
              "2392424                   2.5          0.0          261.0  \n",
              "2392425                   2.5          0.0          493.0  \n",
              "2392426                   2.5          0.0          465.0  \n",
              "2392427                   2.5          0.0          734.0  \n",
              "\n",
              "[2392428 rows x 20 columns]"
            ],
            "text/html": [
              "\n",
              "  <div id=\"df-bc24fad8-d22c-4f0b-9c67-6f137587b16d\">\n",
              "    <div class=\"colab-df-container\">\n",
              "      <div>\n",
              "<style scoped>\n",
              "    .dataframe tbody tr th:only-of-type {\n",
              "        vertical-align: middle;\n",
              "    }\n",
              "\n",
              "    .dataframe tbody tr th {\n",
              "        vertical-align: top;\n",
              "    }\n",
              "\n",
              "    .dataframe thead th {\n",
              "        text-align: right;\n",
              "    }\n",
              "</style>\n",
              "<table border=\"1\" class=\"dataframe\">\n",
              "  <thead>\n",
              "    <tr style=\"text-align: right;\">\n",
              "      <th></th>\n",
              "      <th>VendorID</th>\n",
              "      <th>tpep_pickup_datetime</th>\n",
              "      <th>tpep_dropoff_datetime</th>\n",
              "      <th>passenger_count</th>\n",
              "      <th>trip_distance</th>\n",
              "      <th>RatecodeID</th>\n",
              "      <th>store_and_fwd_flag</th>\n",
              "      <th>PULocationID</th>\n",
              "      <th>DOLocationID</th>\n",
              "      <th>payment_type</th>\n",
              "      <th>fare_amount</th>\n",
              "      <th>extra</th>\n",
              "      <th>mta_tax</th>\n",
              "      <th>tip_amount</th>\n",
              "      <th>tolls_amount</th>\n",
              "      <th>improvement_surcharge</th>\n",
              "      <th>total_amount</th>\n",
              "      <th>congestion_surcharge</th>\n",
              "      <th>airport_fee</th>\n",
              "      <th>trip_duration</th>\n",
              "    </tr>\n",
              "  </thead>\n",
              "  <tbody>\n",
              "    <tr>\n",
              "      <th>0</th>\n",
              "      <td>1</td>\n",
              "      <td>2022-01-01 00:35:40</td>\n",
              "      <td>2022-01-01 00:53:29</td>\n",
              "      <td>2.0</td>\n",
              "      <td>3.80</td>\n",
              "      <td>1.0</td>\n",
              "      <td>N</td>\n",
              "      <td>142</td>\n",
              "      <td>236</td>\n",
              "      <td>1</td>\n",
              "      <td>14.5</td>\n",
              "      <td>3.0</td>\n",
              "      <td>0.5</td>\n",
              "      <td>3.65</td>\n",
              "      <td>0.0</td>\n",
              "      <td>0.3</td>\n",
              "      <td>21.95</td>\n",
              "      <td>2.5</td>\n",
              "      <td>0.0</td>\n",
              "      <td>1069.0</td>\n",
              "    </tr>\n",
              "    <tr>\n",
              "      <th>1</th>\n",
              "      <td>1</td>\n",
              "      <td>2022-01-01 00:33:43</td>\n",
              "      <td>2022-01-01 00:42:07</td>\n",
              "      <td>1.0</td>\n",
              "      <td>2.10</td>\n",
              "      <td>1.0</td>\n",
              "      <td>N</td>\n",
              "      <td>236</td>\n",
              "      <td>42</td>\n",
              "      <td>1</td>\n",
              "      <td>8.0</td>\n",
              "      <td>0.5</td>\n",
              "      <td>0.5</td>\n",
              "      <td>4.00</td>\n",
              "      <td>0.0</td>\n",
              "      <td>0.3</td>\n",
              "      <td>13.30</td>\n",
              "      <td>0.0</td>\n",
              "      <td>0.0</td>\n",
              "      <td>504.0</td>\n",
              "    </tr>\n",
              "    <tr>\n",
              "      <th>2</th>\n",
              "      <td>2</td>\n",
              "      <td>2022-01-01 00:53:21</td>\n",
              "      <td>2022-01-01 01:02:19</td>\n",
              "      <td>1.0</td>\n",
              "      <td>0.97</td>\n",
              "      <td>1.0</td>\n",
              "      <td>N</td>\n",
              "      <td>166</td>\n",
              "      <td>166</td>\n",
              "      <td>1</td>\n",
              "      <td>7.5</td>\n",
              "      <td>0.5</td>\n",
              "      <td>0.5</td>\n",
              "      <td>1.76</td>\n",
              "      <td>0.0</td>\n",
              "      <td>0.3</td>\n",
              "      <td>10.56</td>\n",
              "      <td>0.0</td>\n",
              "      <td>0.0</td>\n",
              "      <td>538.0</td>\n",
              "    </tr>\n",
              "    <tr>\n",
              "      <th>3</th>\n",
              "      <td>2</td>\n",
              "      <td>2022-01-01 00:25:21</td>\n",
              "      <td>2022-01-01 00:35:23</td>\n",
              "      <td>1.0</td>\n",
              "      <td>1.09</td>\n",
              "      <td>1.0</td>\n",
              "      <td>N</td>\n",
              "      <td>114</td>\n",
              "      <td>68</td>\n",
              "      <td>2</td>\n",
              "      <td>8.0</td>\n",
              "      <td>0.5</td>\n",
              "      <td>0.5</td>\n",
              "      <td>0.00</td>\n",
              "      <td>0.0</td>\n",
              "      <td>0.3</td>\n",
              "      <td>11.80</td>\n",
              "      <td>2.5</td>\n",
              "      <td>0.0</td>\n",
              "      <td>602.0</td>\n",
              "    </tr>\n",
              "    <tr>\n",
              "      <th>4</th>\n",
              "      <td>2</td>\n",
              "      <td>2022-01-01 00:36:48</td>\n",
              "      <td>2022-01-01 01:14:20</td>\n",
              "      <td>1.0</td>\n",
              "      <td>4.30</td>\n",
              "      <td>1.0</td>\n",
              "      <td>N</td>\n",
              "      <td>68</td>\n",
              "      <td>163</td>\n",
              "      <td>1</td>\n",
              "      <td>23.5</td>\n",
              "      <td>0.5</td>\n",
              "      <td>0.5</td>\n",
              "      <td>3.00</td>\n",
              "      <td>0.0</td>\n",
              "      <td>0.3</td>\n",
              "      <td>30.30</td>\n",
              "      <td>2.5</td>\n",
              "      <td>0.0</td>\n",
              "      <td>2252.0</td>\n",
              "    </tr>\n",
              "    <tr>\n",
              "      <th>...</th>\n",
              "      <td>...</td>\n",
              "      <td>...</td>\n",
              "      <td>...</td>\n",
              "      <td>...</td>\n",
              "      <td>...</td>\n",
              "      <td>...</td>\n",
              "      <td>...</td>\n",
              "      <td>...</td>\n",
              "      <td>...</td>\n",
              "      <td>...</td>\n",
              "      <td>...</td>\n",
              "      <td>...</td>\n",
              "      <td>...</td>\n",
              "      <td>...</td>\n",
              "      <td>...</td>\n",
              "      <td>...</td>\n",
              "      <td>...</td>\n",
              "      <td>...</td>\n",
              "      <td>...</td>\n",
              "      <td>...</td>\n",
              "    </tr>\n",
              "    <tr>\n",
              "      <th>2392423</th>\n",
              "      <td>1</td>\n",
              "      <td>2022-01-31 23:24:28</td>\n",
              "      <td>2022-01-31 23:32:47</td>\n",
              "      <td>1.0</td>\n",
              "      <td>1.50</td>\n",
              "      <td>1.0</td>\n",
              "      <td>N</td>\n",
              "      <td>163</td>\n",
              "      <td>143</td>\n",
              "      <td>2</td>\n",
              "      <td>7.5</td>\n",
              "      <td>3.0</td>\n",
              "      <td>0.5</td>\n",
              "      <td>0.00</td>\n",
              "      <td>0.0</td>\n",
              "      <td>0.3</td>\n",
              "      <td>11.30</td>\n",
              "      <td>2.5</td>\n",
              "      <td>0.0</td>\n",
              "      <td>499.0</td>\n",
              "    </tr>\n",
              "    <tr>\n",
              "      <th>2392424</th>\n",
              "      <td>2</td>\n",
              "      <td>2022-01-31 23:17:44</td>\n",
              "      <td>2022-01-31 23:22:05</td>\n",
              "      <td>1.0</td>\n",
              "      <td>1.02</td>\n",
              "      <td>1.0</td>\n",
              "      <td>N</td>\n",
              "      <td>249</td>\n",
              "      <td>68</td>\n",
              "      <td>1</td>\n",
              "      <td>5.5</td>\n",
              "      <td>0.5</td>\n",
              "      <td>0.5</td>\n",
              "      <td>1.86</td>\n",
              "      <td>0.0</td>\n",
              "      <td>0.3</td>\n",
              "      <td>11.16</td>\n",
              "      <td>2.5</td>\n",
              "      <td>0.0</td>\n",
              "      <td>261.0</td>\n",
              "    </tr>\n",
              "    <tr>\n",
              "      <th>2392425</th>\n",
              "      <td>2</td>\n",
              "      <td>2022-01-31 23:26:41</td>\n",
              "      <td>2022-01-31 23:34:54</td>\n",
              "      <td>1.0</td>\n",
              "      <td>1.53</td>\n",
              "      <td>1.0</td>\n",
              "      <td>N</td>\n",
              "      <td>68</td>\n",
              "      <td>90</td>\n",
              "      <td>1</td>\n",
              "      <td>8.0</td>\n",
              "      <td>0.5</td>\n",
              "      <td>0.5</td>\n",
              "      <td>2.95</td>\n",
              "      <td>0.0</td>\n",
              "      <td>0.3</td>\n",
              "      <td>14.75</td>\n",
              "      <td>2.5</td>\n",
              "      <td>0.0</td>\n",
              "      <td>493.0</td>\n",
              "    </tr>\n",
              "    <tr>\n",
              "      <th>2392426</th>\n",
              "      <td>2</td>\n",
              "      <td>2022-01-31 23:37:41</td>\n",
              "      <td>2022-01-31 23:45:26</td>\n",
              "      <td>1.0</td>\n",
              "      <td>1.59</td>\n",
              "      <td>1.0</td>\n",
              "      <td>N</td>\n",
              "      <td>90</td>\n",
              "      <td>79</td>\n",
              "      <td>1</td>\n",
              "      <td>7.5</td>\n",
              "      <td>0.5</td>\n",
              "      <td>0.5</td>\n",
              "      <td>2.26</td>\n",
              "      <td>0.0</td>\n",
              "      <td>0.3</td>\n",
              "      <td>13.56</td>\n",
              "      <td>2.5</td>\n",
              "      <td>0.0</td>\n",
              "      <td>465.0</td>\n",
              "    </tr>\n",
              "    <tr>\n",
              "      <th>2392427</th>\n",
              "      <td>2</td>\n",
              "      <td>2022-01-31 23:43:22</td>\n",
              "      <td>2022-01-31 23:55:36</td>\n",
              "      <td>1.0</td>\n",
              "      <td>4.04</td>\n",
              "      <td>1.0</td>\n",
              "      <td>N</td>\n",
              "      <td>140</td>\n",
              "      <td>24</td>\n",
              "      <td>1</td>\n",
              "      <td>13.5</td>\n",
              "      <td>0.5</td>\n",
              "      <td>0.5</td>\n",
              "      <td>3.46</td>\n",
              "      <td>0.0</td>\n",
              "      <td>0.3</td>\n",
              "      <td>20.76</td>\n",
              "      <td>2.5</td>\n",
              "      <td>0.0</td>\n",
              "      <td>734.0</td>\n",
              "    </tr>\n",
              "  </tbody>\n",
              "</table>\n",
              "<p>2392428 rows × 20 columns</p>\n",
              "</div>\n",
              "      <button class=\"colab-df-convert\" onclick=\"convertToInteractive('df-bc24fad8-d22c-4f0b-9c67-6f137587b16d')\"\n",
              "              title=\"Convert this dataframe to an interactive table.\"\n",
              "              style=\"display:none;\">\n",
              "        \n",
              "  <svg xmlns=\"http://www.w3.org/2000/svg\" height=\"24px\"viewBox=\"0 0 24 24\"\n",
              "       width=\"24px\">\n",
              "    <path d=\"M0 0h24v24H0V0z\" fill=\"none\"/>\n",
              "    <path d=\"M18.56 5.44l.94 2.06.94-2.06 2.06-.94-2.06-.94-.94-2.06-.94 2.06-2.06.94zm-11 1L8.5 8.5l.94-2.06 2.06-.94-2.06-.94L8.5 2.5l-.94 2.06-2.06.94zm10 10l.94 2.06.94-2.06 2.06-.94-2.06-.94-.94-2.06-.94 2.06-2.06.94z\"/><path d=\"M17.41 7.96l-1.37-1.37c-.4-.4-.92-.59-1.43-.59-.52 0-1.04.2-1.43.59L10.3 9.45l-7.72 7.72c-.78.78-.78 2.05 0 2.83L4 21.41c.39.39.9.59 1.41.59.51 0 1.02-.2 1.41-.59l7.78-7.78 2.81-2.81c.8-.78.8-2.07 0-2.86zM5.41 20L4 18.59l7.72-7.72 1.47 1.35L5.41 20z\"/>\n",
              "  </svg>\n",
              "      </button>\n",
              "      \n",
              "  <style>\n",
              "    .colab-df-container {\n",
              "      display:flex;\n",
              "      flex-wrap:wrap;\n",
              "      gap: 12px;\n",
              "    }\n",
              "\n",
              "    .colab-df-convert {\n",
              "      background-color: #E8F0FE;\n",
              "      border: none;\n",
              "      border-radius: 50%;\n",
              "      cursor: pointer;\n",
              "      display: none;\n",
              "      fill: #1967D2;\n",
              "      height: 32px;\n",
              "      padding: 0 0 0 0;\n",
              "      width: 32px;\n",
              "    }\n",
              "\n",
              "    .colab-df-convert:hover {\n",
              "      background-color: #E2EBFA;\n",
              "      box-shadow: 0px 1px 2px rgba(60, 64, 67, 0.3), 0px 1px 3px 1px rgba(60, 64, 67, 0.15);\n",
              "      fill: #174EA6;\n",
              "    }\n",
              "\n",
              "    [theme=dark] .colab-df-convert {\n",
              "      background-color: #3B4455;\n",
              "      fill: #D2E3FC;\n",
              "    }\n",
              "\n",
              "    [theme=dark] .colab-df-convert:hover {\n",
              "      background-color: #434B5C;\n",
              "      box-shadow: 0px 1px 3px 1px rgba(0, 0, 0, 0.15);\n",
              "      filter: drop-shadow(0px 1px 2px rgba(0, 0, 0, 0.3));\n",
              "      fill: #FFFFFF;\n",
              "    }\n",
              "  </style>\n",
              "\n",
              "      <script>\n",
              "        const buttonEl =\n",
              "          document.querySelector('#df-bc24fad8-d22c-4f0b-9c67-6f137587b16d button.colab-df-convert');\n",
              "        buttonEl.style.display =\n",
              "          google.colab.kernel.accessAllowed ? 'block' : 'none';\n",
              "\n",
              "        async function convertToInteractive(key) {\n",
              "          const element = document.querySelector('#df-bc24fad8-d22c-4f0b-9c67-6f137587b16d');\n",
              "          const dataTable =\n",
              "            await google.colab.kernel.invokeFunction('convertToInteractive',\n",
              "                                                     [key], {});\n",
              "          if (!dataTable) return;\n",
              "\n",
              "          const docLinkHtml = 'Like what you see? Visit the ' +\n",
              "            '<a target=\"_blank\" href=https://colab.research.google.com/notebooks/data_table.ipynb>data table notebook</a>'\n",
              "            + ' to learn more about interactive tables.';\n",
              "          element.innerHTML = '';\n",
              "          dataTable['output_type'] = 'display_data';\n",
              "          await google.colab.output.renderOutput(dataTable, element);\n",
              "          const docLink = document.createElement('div');\n",
              "          docLink.innerHTML = docLinkHtml;\n",
              "          element.appendChild(docLink);\n",
              "        }\n",
              "      </script>\n",
              "    </div>\n",
              "  </div>\n",
              "  "
            ]
          },
          "metadata": {},
          "execution_count": 15
        }
      ],
      "source": [
        "df_yellow_taxi"
      ]
    },
    {
      "cell_type": "markdown",
      "metadata": {
        "id": "gUp92Dsr4L8l"
      },
      "source": [
        "## Corrélation entre les variables"
      ]
    },
    {
      "cell_type": "code",
      "execution_count": null,
      "metadata": {
        "colab": {
          "base_uri": "https://localhost:8080/"
        },
        "id": "X_Hfa03G4LKY",
        "outputId": "98cd9c07-d5f2-46ab-abab-c16fff04c3cd"
      },
      "outputs": [
        {
          "output_type": "display_data",
          "data": {
            "text/plain": [
              "<Figure size 3024x1440 with 2 Axes>"
            ],
            "image/png": "[encoded data removed]"
          },
          "metadata": {
            "needs_background": "light"
          }
        }
      ],
      "source": [
        "corr = df_yellow_taxi.corr()\n",
        "mask = np.zeros_like(corr)\n",
        "mask[np.triu_indices_from(mask)] = True\n",
        "fig, ax = plt.subplots(figsize=(42,20))\n",
        "ax = sns.heatmap(corr,\n",
        "                 vmin=-1, vmax=1,\n",
        "                 fmt=\".2f\", annot_kws={'size':8}, \n",
        "                 mask=mask\n",
        "                )\n",
        "plt.title(f\"Heatmap des corrélations linéaires\\n\"\n",
        "          )\n",
        "plt.show()"
      ]
    },
    {
      "cell_type": "markdown",
      "metadata": {
        "id": "lGbV8jR52dri"
      },
      "source": [
        "##Split Train/Test & Normalisation & Encoding\n"
      ]
    },
    {
      "cell_type": "markdown",
      "metadata": {
        "id": "0i4zp33c5eCl"
      },
      "source": [
        "On enlève les variables suivants:\n",
        "payment_type: the payment type used for the trip.  \n",
        "fare_amount: the fare amount charged to the passenger.\n",
        "extra: any additional charges.\n",
        "mta_tax: the MTA tax charged on the trip.\n",
        "tip_amount: the amount of the tip given by the passenger.\n",
        "tolls_amount: the amount paid for tolls.\n",
        "improvement_surcharge: the improvement surcharge applied to the trip.\n",
        "\n",
        "congestion_surcharge: the congestion surcharge applied to the trip (effective from 2021).\n",
        "airport_fee: the airport fee applied to the trip (if applicable)."
      ]
    },
    {
      "cell_type": "code",
      "execution_count": 17,
      "metadata": {
        "id": "itSeRio3Eg6k"
      },
      "outputs": [],
      "source": [
        "#On convertit les données de date\n",
        "df_yellow_taxi['tpep_dropoff_datetime']  =  pd.to_numeric(pd.to_datetime(df_yellow_taxi['tpep_dropoff_datetime']))\n",
        "df_yellow_taxi['tpep_pickup_datetime']  =  pd.to_numeric(pd.to_datetime(df_yellow_taxi['tpep_pickup_datetime']))"
      ]
    },
    {
      "cell_type": "code",
      "execution_count": 18,
      "metadata": {
        "colab": {
          "base_uri": "https://localhost:8080/"
        },
        "id": "jhNZX3k4FmVc",
        "outputId": "0b15f5c4-2bda-43aa-e1cb-678564b51ffd"
      },
      "outputs": [
        {
          "output_type": "stream",
          "name": "stdout",
          "text": [
            "Index(['store_and_fwd_flag'], dtype='object')\n"
          ]
        }
      ],
      "source": [
        "# Get a list of categorical columns\n",
        "cat_cols = df_yellow_taxi.select_dtypes(['category','object']).columns\n",
        "print(cat_cols)"
      ]
    },
    {
      "cell_type": "code",
      "execution_count": 19,
      "metadata": {
        "id": "kEeFuRQHFA0U"
      },
      "outputs": [],
      "source": [
        "#on encode\n",
        "df_yellow_taxi = pd.get_dummies(df_yellow_taxi, columns=['store_and_fwd_flag','VendorID','RatecodeID','PULocationID','DOLocationID'])"
      ]
    },
    {
      "cell_type": "code",
      "execution_count": 20,
      "metadata": {
        "id": "5dimNLvZwjC4"
      },
      "outputs": [],
      "source": [
        "#Pour ne pas crash il faut utiliser un subset\n",
        "df_yellow_taxi_sample = df_yellow_taxi.sample(frac=0.01, replace=False, random_state=seed)"
      ]
    },
    {
      "cell_type": "code",
      "execution_count": 21,
      "metadata": {
        "id": "_6zEc4rOMNVs"
      },
      "outputs": [],
      "source": [
        "y = df_yellow_taxi_sample[\"total_amount\"]\n",
        "variables_to_remove = ['total_amount','fare_amount','extra','mta_tax','tip_amount','tolls_amount','improvement_surcharge','airport_fee','congestion_surcharge','payment_type']\n",
        "X = df_yellow_taxi_sample.drop(columns=variables_to_remove, axis=1)"
      ]
    },
    {
      "cell_type": "code",
      "execution_count": 22,
      "metadata": {
        "id": "H4nMaQeFDDxD"
      },
      "outputs": [],
      "source": [
        "\n",
        "X_train, X_test, y_train, y_test=train_test_split(X,\n",
        "    y,test_size=0.2,\n",
        "    shuffle=True,                                       \n",
        "    random_state=seed)"
      ]
    },
    {
      "cell_type": "code",
      "execution_count": 23,
      "metadata": {
        "id": "bH-w5fnHv5NP"
      },
      "outputs": [],
      "source": [
        "\n",
        "#classe pour standardisation\n",
        "from sklearn.preprocessing import StandardScaler\n",
        "#instanciation\n",
        "sc = StandardScaler()\n"
      ]
    },
    {
      "cell_type": "code",
      "execution_count": 24,
      "metadata": {
        "id": "qidsRY_1v7aP"
      },
      "outputs": [],
      "source": [
        "#transformation – centrage-réduction\n",
        "\n",
        "X_train= sc.fit_transform(X_train)\n",
        "\n"
      ]
    },
    {
      "cell_type": "code",
      "execution_count": 25,
      "metadata": {
        "id": "GXXoU3hJwAnI"
      },
      "outputs": [],
      "source": [
        "# La libraire Sklearn réalise une normalisation biaisé\n",
        "X_test= sc.fit_transform(X_test)\n"
      ]
    },
    {
      "cell_type": "markdown",
      "source": [
        "# Predictions"
      ],
      "metadata": {
        "id": "SPJHtg6RFcIF"
      }
    },
    {
      "cell_type": "markdown",
      "source": [
        "## Creation des metrics"
      ],
      "metadata": {
        "id": "OGL8fAaX5GxC"
      }
    },
    {
      "cell_type": "code",
      "source": [
        "from sklearn.metrics import r2_score, mean_absolute_error, mean_squared_error\n",
        "from sklearn.model_selection import cross_val_score\n",
        "\n",
        "def evaluation(y_true, y_pred):\n",
        "    mae = mean_absolute_error(y_true, y_pred)\n",
        "    mse = mean_squared_error(y_true, y_pred)\n",
        "    rmse = np.sqrt(mean_squared_error(y_true, y_pred))\n",
        "    r_squared = r2_score(y_true, y_pred)\n",
        "    return mae, mse, rmse, r_squared"
      ],
      "metadata": {
        "id": "1MFo759BGECc"
      },
      "execution_count": 16,
      "outputs": []
    },
    {
      "cell_type": "markdown",
      "source": [
        "## Moyenne"
      ],
      "metadata": {
        "id": "V-NnzLen9apL"
      }
    },
    {
      "cell_type": "code",
      "source": [
        "import pandas as pd\n",
        "\n",
        "def mean_df(df: pd.DataFrame) -> pd.Series:\n",
        "    return df.select_dtypes(include=[np.number]).mean()\n"
      ],
      "metadata": {
        "id": "dqgS1_Jb9xBD"
      },
      "execution_count": 28,
      "outputs": []
    },
    {
      "cell_type": "code",
      "source": [
        "import pandas as pd\n",
        "\n",
        "predictions = pd.DataFrame(data = [19.05]*4785, columns=[\"value\"])\n"
      ],
      "metadata": {
        "id": "0JSOLEn6-kdQ"
      },
      "execution_count": 32,
      "outputs": []
    },
    {
      "cell_type": "code",
      "source": [
        "y_train.mean()"
      ],
      "metadata": {
        "colab": {
          "base_uri": "https://localhost:8080/"
        },
        "id": "ggToZUHZ9Z5V",
        "outputId": "9f7d5d82-8e5a-420d-a4b4-7d80c746bb00"
      },
      "execution_count": 30,
      "outputs": [
        {
          "output_type": "execute_result",
          "data": {
            "text/plain": [
              "19.05460943622969"
            ]
          },
          "metadata": {},
          "execution_count": 30
        }
      ]
    },
    {
      "cell_type": "code",
      "source": [
        "mae, mse, rmse, r_squared = evaluation(y_test, predictions)\n",
        "print(\"MAE:\", mae)\n",
        "print(\"MSE:\", mse)\n",
        "print(\"RMSE:\", rmse)\n",
        "print(\"R2 Score:\", r_squared)\n",
        "print(\"-\"*30)"
      ],
      "metadata": {
        "colab": {
          "base_uri": "https://localhost:8080/"
        },
        "id": "zhfaIrUD-hDU",
        "outputId": "22a9ad36-24d4-4b26-9280-6587d15f8d81"
      },
      "execution_count": 33,
      "outputs": [
        {
          "output_type": "stream",
          "name": "stdout",
          "text": [
            "MAE: 9.173763845350052\n",
            "MSE: 240.4667375966562\n",
            "RMSE: 15.50698995926212\n",
            "R2 Score: -9.280389223342844e-05\n",
            "------------------------------\n"
          ]
        }
      ]
    },
    {
      "cell_type": "markdown",
      "source": [
        "## Regression Lineaire"
      ],
      "metadata": {
        "id": "KmrsaUGb5Kty"
      }
    },
    {
      "cell_type": "code",
      "source": [
        "from sklearn.linear_model import LinearRegression\n",
        "\n",
        "results = []\n",
        "\n",
        "reg_lin = LinearRegression()\n",
        "reg_lin.fit(X_train, y_train)\n",
        "predictions = reg_lin.predict(X_test)\n",
        "\n",
        "mae, mse, rmse, r_squared = evaluation(y_test, predictions)\n",
        "print(\"MAE:\", mae)\n",
        "print(\"MSE:\", mse)\n",
        "print(\"RMSE:\", rmse)\n",
        "print(\"R2 Score:\", r_squared)\n",
        "print(\"-\"*30)\n",
        "\n",
        "\n",
        "new_row = {\"Model\": \"LinearRegression\",\"MAE\": mae, \"MSE\": mse, \"RMSE\": rmse, \"R2 Score\": r_squared}\n",
        "results.append(new_row)"
      ],
      "metadata": {
        "colab": {
          "base_uri": "https://localhost:8080/"
        },
        "id": "s3_gb4GZFe3m",
        "outputId": "165624a7-e669-499c-cda3-24d99ba43bba"
      },
      "execution_count": null,
      "outputs": [
        {
          "output_type": "stream",
          "name": "stdout",
          "text": [
            "MAE: 4924758564026.04\n",
            "MSE: 6.87506579962285e+27\n",
            "RMSE: 82916016544590.77\n",
            "R2 Score: -2.8593159707690174e+25\n",
            "------------------------------\n"
          ]
        }
      ]
    },
    {
      "cell_type": "markdown",
      "source": [
        "## Regression Ridge"
      ],
      "metadata": {
        "id": "zt3VmBN66J6w"
      }
    },
    {
      "cell_type": "code",
      "source": [
        "from sklearn.linear_model import Ridge\n",
        "reg_ridge = Ridge()\n",
        "reg_ridge.fit(X_train, y_train)\n",
        "predictions = reg_ridge.predict(X_test)\n",
        "\n",
        "mae, mse, rmse, r_squared = evaluation(y_test, predictions)\n",
        "print(\"MAE:\", mae)\n",
        "print(\"MSE:\", mse)\n",
        "print(\"RMSE:\", rmse)\n",
        "print(\"R2 Score:\", r_squared)\n",
        "print(\"-\"*30)\n",
        "\n",
        "\n",
        "new_row = {\"Model\": \"Ridge\",\"MAE\": mae, \"MSE\": mse, \"RMSE\": rmse, \"R2 Score\": r_squared}\n",
        "results.append(new_row)"
      ],
      "metadata": {
        "colab": {
          "base_uri": "https://localhost:8080/"
        },
        "id": "L4Alf0FGGNmV",
        "outputId": "4783725f-2dab-4a6a-d699-25e5ac29dda1"
      },
      "execution_count": null,
      "outputs": [
        {
          "output_type": "stream",
          "name": "stdout",
          "text": [
            "MAE: 2.8304432184738784\n",
            "MSE: 52.27048439629525\n",
            "RMSE: 7.229832943871888\n",
            "R2 Score: 0.7826088721327458\n",
            "------------------------------\n"
          ]
        }
      ]
    },
    {
      "cell_type": "markdown",
      "source": [
        "## Regression Lasso"
      ],
      "metadata": {
        "id": "8bGwsCh_6OJU"
      }
    },
    {
      "cell_type": "code",
      "source": [
        "from sklearn.linear_model import Lasso\n",
        "reg_lasso = Lasso()\n",
        "reg_lasso.fit(X_train, y_train)\n",
        "predictions = reg_lasso.predict(X_test)\n",
        "\n",
        "mae, mse, rmse, r_squared = evaluation(y_test, predictions)\n",
        "print(\"MAE:\", mae)\n",
        "print(\"MSE:\", mse)\n",
        "print(\"RMSE:\", rmse)\n",
        "print(\"R2 Score:\", r_squared)\n",
        "print(\"-\"*30)\n",
        "\n",
        "\n",
        "new_row = {\"Model\": \"Lasso\",\"MAE\": mae, \"MSE\": mse, \"RMSE\": rmse, \"R2 Score\": r_squared}\n",
        "results.append(new_row)"
      ],
      "metadata": {
        "id": "hNxQ_OH3GPur",
        "colab": {
          "base_uri": "https://localhost:8080/"
        },
        "outputId": "e2171ebd-0735-41c7-a65c-e4e309456f0e"
      },
      "execution_count": null,
      "outputs": [
        {
          "output_type": "stream",
          "name": "stdout",
          "text": [
            "MAE: 3.0746181137792026\n",
            "MSE: 59.959848983410836\n",
            "RMSE: 7.743374521706336\n",
            "R2 Score: 0.7506290720700156\n",
            "------------------------------\n"
          ]
        }
      ]
    },
    {
      "cell_type": "markdown",
      "source": [
        "## Random Forest"
      ],
      "metadata": {
        "id": "GzeOC9gZ6h3m"
      }
    },
    {
      "cell_type": "code",
      "source": [
        "from sklearn.ensemble import RandomForestRegressor\n",
        "reg_rf = RandomForestRegressor(n_estimators=100)\n",
        "reg_rf.fit(X_train, y_train)\n",
        "predictions = reg_rf.predict(X_test)\n",
        "\n",
        "mae, mse, rmse, r_squared = evaluation(y_test, predictions)\n",
        "print(\"MAE:\", mae)\n",
        "print(\"MSE:\", mse)\n",
        "print(\"RMSE:\", rmse)\n",
        "print(\"R2 Score:\", r_squared)\n",
        "\n",
        "\n",
        "new_row = {\"Model\": \"RandomForest\",\"MAE\": mae, \"MSE\": mse, \"RMSE\": rmse, \"R2 Score\": r_squared}\n",
        "results.append(new_row)\n"
      ],
      "metadata": {
        "colab": {
          "base_uri": "https://localhost:8080/"
        },
        "id": "cZzCcqnhGWXy",
        "outputId": "f8a24cc6-00b0-4c63-a0d5-d68205eb8b74"
      },
      "execution_count": null,
      "outputs": [
        {
          "output_type": "stream",
          "name": "stdout",
          "text": [
            "MAE: 2.1977198676419376\n",
            "MSE: 38.60539336860026\n",
            "RMSE: 6.213323858338648\n",
            "R2 Score: 0.8394415107667559\n"
          ]
        }
      ]
    },
    {
      "cell_type": "markdown",
      "source": [
        "## XGBoost"
      ],
      "metadata": {
        "id": "R9RIWty66kaT"
      }
    },
    {
      "cell_type": "code",
      "source": [
        "from xgboost import XGBRegressor\n",
        "reg_xgb = XGBRegressor(n_estimators=1500, learning_rate=0.02)\n",
        "reg_xgb.fit(X_train, y_train)\n",
        "predictions = reg_xgb.predict(X_test)\n",
        "\n",
        "mae, mse, rmse, r_squared = evaluation(y_test, predictions)\n",
        "print(\"MAE:\", mae)\n",
        "print(\"MSE:\", mse)\n",
        "print(\"RMSE:\", rmse)\n",
        "print(\"R2 Score:\", r_squared)\n",
        "print(\"-\"*30)\n",
        "\n",
        "\n",
        "new_row = {\"Model\": \"XGBRegressor\",\"MAE\": mae, \"MSE\": mse, \"RMSE\": rmse, \"R2 Score\": r_squared}\n",
        "results.append(new_row)"
      ],
      "metadata": {
        "colab": {
          "base_uri": "https://localhost:8080/"
        },
        "id": "FmwUMdsgGcuL",
        "outputId": "0c6459bb-daa5-4b76-b470-5b91df12cf6f"
      },
      "execution_count": null,
      "outputs": [
        {
          "output_type": "stream",
          "name": "stdout",
          "text": [
            "[21:44:01] WARNING: /workspace/src/objective/regression_obj.cu:152: reg:linear is now deprecated in favor of reg:squarederror.\n",
            "MAE: 2.3438480561629107\n",
            "MSE: 43.11497691299737\n",
            "RMSE: 6.566199579132314\n",
            "R2 Score: 0.820686309542763\n",
            "------------------------------\n"
          ]
        }
      ]
    },
    {
      "cell_type": "markdown",
      "source": [
        "# Comparaison Models"
      ],
      "metadata": {
        "id": "iSBib99X6oLE"
      }
    },
    {
      "cell_type": "code",
      "source": [
        "models = pd.DataFrame(columns=[\"Model\",\"MAE\",\"MSE\",\"RMSE\",\"R2 Score\"])\n",
        "for row in results:\n",
        "    models = models.append(row, ignore_index=True)"
      ],
      "metadata": {
        "id": "lkXKpCepGgya"
      },
      "execution_count": null,
      "outputs": []
    },
    {
      "cell_type": "code",
      "source": [
        "\n",
        "df_comparaison  = models.sort_values(by=\"RMSE\")"
      ],
      "metadata": {
        "id": "kEFba6GrGk5d"
      },
      "execution_count": null,
      "outputs": []
    },
    {
      "cell_type": "code",
      "source": [
        "df_comparaison"
      ],
      "metadata": {
        "colab": {
          "base_uri": "https://localhost:8080/",
          "height": 206
        },
        "id": "TkWDZNvZGUvT",
        "outputId": "77425f90-e11f-48a0-8bdc-56615d9a5772"
      },
      "execution_count": null,
      "outputs": [
        {
          "output_type": "execute_result",
          "data": {
            "text/plain": [
              "              Model           MAE           MSE          RMSE      R2 Score\n",
              "3      RandomForest  2.197720e+00  3.860539e+01  6.213324e+00  8.394415e-01\n",
              "4      XGBRegressor  2.343848e+00  4.311498e+01  6.566200e+00  8.206863e-01\n",
              "1             Ridge  2.830443e+00  5.227048e+01  7.229833e+00  7.826089e-01\n",
              "2             Lasso  3.074618e+00  5.995985e+01  7.743375e+00  7.506291e-01\n",
              "0  LinearRegression  4.924759e+12  6.875066e+27  8.291602e+13 -2.859316e+25"
            ],
            "text/html": [
              "\n",
              "  <div id=\"df-3f9bab74-8459-4028-afd3-ac872d91c716\">\n",
              "    <div class=\"colab-df-container\">\n",
              "      <div>\n",
              "<style scoped>\n",
              "    .dataframe tbody tr th:only-of-type {\n",
              "        vertical-align: middle;\n",
              "    }\n",
              "\n",
              "    .dataframe tbody tr th {\n",
              "        vertical-align: top;\n",
              "    }\n",
              "\n",
              "    .dataframe thead th {\n",
              "        text-align: right;\n",
              "    }\n",
              "</style>\n",
              "<table border=\"1\" class=\"dataframe\">\n",
              "  <thead>\n",
              "    <tr style=\"text-align: right;\">\n",
              "      <th></th>\n",
              "      <th>Model</th>\n",
              "      <th>MAE</th>\n",
              "      <th>MSE</th>\n",
              "      <th>RMSE</th>\n",
              "      <th>R2 Score</th>\n",
              "    </tr>\n",
              "  </thead>\n",
              "  <tbody>\n",
              "    <tr>\n",
              "      <th>3</th>\n",
              "      <td>RandomForest</td>\n",
              "      <td>2.197720e+00</td>\n",
              "      <td>3.860539e+01</td>\n",
              "      <td>6.213324e+00</td>\n",
              "      <td>8.394415e-01</td>\n",
              "    </tr>\n",
              "    <tr>\n",
              "      <th>4</th>\n",
              "      <td>XGBRegressor</td>\n",
              "      <td>2.343848e+00</td>\n",
              "      <td>4.311498e+01</td>\n",
              "      <td>6.566200e+00</td>\n",
              "      <td>8.206863e-01</td>\n",
              "    </tr>\n",
              "    <tr>\n",
              "      <th>1</th>\n",
              "      <td>Ridge</td>\n",
              "      <td>2.830443e+00</td>\n",
              "      <td>5.227048e+01</td>\n",
              "      <td>7.229833e+00</td>\n",
              "      <td>7.826089e-01</td>\n",
              "    </tr>\n",
              "    <tr>\n",
              "      <th>2</th>\n",
              "      <td>Lasso</td>\n",
              "      <td>3.074618e+00</td>\n",
              "      <td>5.995985e+01</td>\n",
              "      <td>7.743375e+00</td>\n",
              "      <td>7.506291e-01</td>\n",
              "    </tr>\n",
              "    <tr>\n",
              "      <th>0</th>\n",
              "      <td>LinearRegression</td>\n",
              "      <td>4.924759e+12</td>\n",
              "      <td>6.875066e+27</td>\n",
              "      <td>8.291602e+13</td>\n",
              "      <td>-2.859316e+25</td>\n",
              "    </tr>\n",
              "  </tbody>\n",
              "</table>\n",
              "</div>\n",
              "      <button class=\"colab-df-convert\" onclick=\"convertToInteractive('df-3f9bab74-8459-4028-afd3-ac872d91c716')\"\n",
              "              title=\"Convert this dataframe to an interactive table.\"\n",
              "              style=\"display:none;\">\n",
              "        \n",
              "  <svg xmlns=\"http://www.w3.org/2000/svg\" height=\"24px\"viewBox=\"0 0 24 24\"\n",
              "       width=\"24px\">\n",
              "    <path d=\"M0 0h24v24H0V0z\" fill=\"none\"/>\n",
              "    <path d=\"M18.56 5.44l.94 2.06.94-2.06 2.06-.94-2.06-.94-.94-2.06-.94 2.06-2.06.94zm-11 1L8.5 8.5l.94-2.06 2.06-.94-2.06-.94L8.5 2.5l-.94 2.06-2.06.94zm10 10l.94 2.06.94-2.06 2.06-.94-2.06-.94-.94-2.06-.94 2.06-2.06.94z\"/><path d=\"M17.41 7.96l-1.37-1.37c-.4-.4-.92-.59-1.43-.59-.52 0-1.04.2-1.43.59L10.3 9.45l-7.72 7.72c-.78.78-.78 2.05 0 2.83L4 21.41c.39.39.9.59 1.41.59.51 0 1.02-.2 1.41-.59l7.78-7.78 2.81-2.81c.8-.78.8-2.07 0-2.86zM5.41 20L4 18.59l7.72-7.72 1.47 1.35L5.41 20z\"/>\n",
              "  </svg>\n",
              "      </button>\n",
              "      \n",
              "  <style>\n",
              "    .colab-df-container {\n",
              "      display:flex;\n",
              "      flex-wrap:wrap;\n",
              "      gap: 12px;\n",
              "    }\n",
              "\n",
              "    .colab-df-convert {\n",
              "      background-color: #E8F0FE;\n",
              "      border: none;\n",
              "      border-radius: 50%;\n",
              "      cursor: pointer;\n",
              "      display: none;\n",
              "      fill: #1967D2;\n",
              "      height: 32px;\n",
              "      padding: 0 0 0 0;\n",
              "      width: 32px;\n",
              "    }\n",
              "\n",
              "    .colab-df-convert:hover {\n",
              "      background-color: #E2EBFA;\n",
              "      box-shadow: 0px 1px 2px rgba(60, 64, 67, 0.3), 0px 1px 3px 1px rgba(60, 64, 67, 0.15);\n",
              "      fill: #174EA6;\n",
              "    }\n",
              "\n",
              "    [theme=dark] .colab-df-convert {\n",
              "      background-color: #3B4455;\n",
              "      fill: #D2E3FC;\n",
              "    }\n",
              "\n",
              "    [theme=dark] .colab-df-convert:hover {\n",
              "      background-color: #434B5C;\n",
              "      box-shadow: 0px 1px 3px 1px rgba(0, 0, 0, 0.15);\n",
              "      filter: drop-shadow(0px 1px 2px rgba(0, 0, 0, 0.3));\n",
              "      fill: #FFFFFF;\n",
              "    }\n",
              "  </style>\n",
              "\n",
              "      <script>\n",
              "        const buttonEl =\n",
              "          document.querySelector('#df-3f9bab74-8459-4028-afd3-ac872d91c716 button.colab-df-convert');\n",
              "        buttonEl.style.display =\n",
              "          google.colab.kernel.accessAllowed ? 'block' : 'none';\n",
              "\n",
              "        async function convertToInteractive(key) {\n",
              "          const element = document.querySelector('#df-3f9bab74-8459-4028-afd3-ac872d91c716');\n",
              "          const dataTable =\n",
              "            await google.colab.kernel.invokeFunction('convertToInteractive',\n",
              "                                                     [key], {});\n",
              "          if (!dataTable) return;\n",
              "\n",
              "          const docLinkHtml = 'Like what you see? Visit the ' +\n",
              "            '<a target=\"_blank\" href=https://colab.research.google.com/notebooks/data_table.ipynb>data table notebook</a>'\n",
              "            + ' to learn more about interactive tables.';\n",
              "          element.innerHTML = '';\n",
              "          dataTable['output_type'] = 'display_data';\n",
              "          await google.colab.output.renderOutput(dataTable, element);\n",
              "          const docLink = document.createElement('div');\n",
              "          docLink.innerHTML = docLinkHtml;\n",
              "          element.appendChild(docLink);\n",
              "        }\n",
              "      </script>\n",
              "    </div>\n",
              "  </div>\n",
              "  "
            ]
          },
          "metadata": {},
          "execution_count": 35
        }
      ]
    },
    {
      "cell_type": "code",
      "source": [
        "df_comparaison  = df_comparaison[df_comparaison.Model != 'LinearRegression']"
      ],
      "metadata": {
        "id": "kpLiI3gSGbeU"
      },
      "execution_count": null,
      "outputs": []
    },
    {
      "cell_type": "code",
      "source": [
        "df_comparaison"
      ],
      "metadata": {
        "colab": {
          "base_uri": "https://localhost:8080/",
          "height": 175
        },
        "id": "-80Ge67lJEqi",
        "outputId": "24e7e12a-a7b5-4945-da03-ce03538df1bc"
      },
      "execution_count": null,
      "outputs": [
        {
          "output_type": "execute_result",
          "data": {
            "text/plain": [
              "          Model       MAE        MSE      RMSE  R2 Score\n",
              "3  RandomForest  2.197720  38.605393  6.213324  0.839442\n",
              "4  XGBRegressor  2.343848  43.114977  6.566200  0.820686\n",
              "1         Ridge  2.830443  52.270484  7.229833  0.782609\n",
              "2         Lasso  3.074618  59.959849  7.743375  0.750629"
            ],
            "text/html": [
              "\n",
              "  <div id=\"df-1fc02735-8289-49f9-bad3-9a6d84ae3d8e\">\n",
              "    <div class=\"colab-df-container\">\n",
              "      <div>\n",
              "<style scoped>\n",
              "    .dataframe tbody tr th:only-of-type {\n",
              "        vertical-align: middle;\n",
              "    }\n",
              "\n",
              "    .dataframe tbody tr th {\n",
              "        vertical-align: top;\n",
              "    }\n",
              "\n",
              "    .dataframe thead th {\n",
              "        text-align: right;\n",
              "    }\n",
              "</style>\n",
              "<table border=\"1\" class=\"dataframe\">\n",
              "  <thead>\n",
              "    <tr style=\"text-align: right;\">\n",
              "      <th></th>\n",
              "      <th>Model</th>\n",
              "      <th>MAE</th>\n",
              "      <th>MSE</th>\n",
              "      <th>RMSE</th>\n",
              "      <th>R2 Score</th>\n",
              "    </tr>\n",
              "  </thead>\n",
              "  <tbody>\n",
              "    <tr>\n",
              "      <th>3</th>\n",
              "      <td>RandomForest</td>\n",
              "      <td>2.197720</td>\n",
              "      <td>38.605393</td>\n",
              "      <td>6.213324</td>\n",
              "      <td>0.839442</td>\n",
              "    </tr>\n",
              "    <tr>\n",
              "      <th>4</th>\n",
              "      <td>XGBRegressor</td>\n",
              "      <td>2.343848</td>\n",
              "      <td>43.114977</td>\n",
              "      <td>6.566200</td>\n",
              "      <td>0.820686</td>\n",
              "    </tr>\n",
              "    <tr>\n",
              "      <th>1</th>\n",
              "      <td>Ridge</td>\n",
              "      <td>2.830443</td>\n",
              "      <td>52.270484</td>\n",
              "      <td>7.229833</td>\n",
              "      <td>0.782609</td>\n",
              "    </tr>\n",
              "    <tr>\n",
              "      <th>2</th>\n",
              "      <td>Lasso</td>\n",
              "      <td>3.074618</td>\n",
              "      <td>59.959849</td>\n",
              "      <td>7.743375</td>\n",
              "      <td>0.750629</td>\n",
              "    </tr>\n",
              "  </tbody>\n",
              "</table>\n",
              "</div>\n",
              "      <button class=\"colab-df-convert\" onclick=\"convertToInteractive('df-1fc02735-8289-49f9-bad3-9a6d84ae3d8e')\"\n",
              "              title=\"Convert this dataframe to an interactive table.\"\n",
              "              style=\"display:none;\">\n",
              "        \n",
              "  <svg xmlns=\"http://www.w3.org/2000/svg\" height=\"24px\"viewBox=\"0 0 24 24\"\n",
              "       width=\"24px\">\n",
              "    <path d=\"M0 0h24v24H0V0z\" fill=\"none\"/>\n",
              "    <path d=\"M18.56 5.44l.94 2.06.94-2.06 2.06-.94-2.06-.94-.94-2.06-.94 2.06-2.06.94zm-11 1L8.5 8.5l.94-2.06 2.06-.94-2.06-.94L8.5 2.5l-.94 2.06-2.06.94zm10 10l.94 2.06.94-2.06 2.06-.94-2.06-.94-.94-2.06-.94 2.06-2.06.94z\"/><path d=\"M17.41 7.96l-1.37-1.37c-.4-.4-.92-.59-1.43-.59-.52 0-1.04.2-1.43.59L10.3 9.45l-7.72 7.72c-.78.78-.78 2.05 0 2.83L4 21.41c.39.39.9.59 1.41.59.51 0 1.02-.2 1.41-.59l7.78-7.78 2.81-2.81c.8-.78.8-2.07 0-2.86zM5.41 20L4 18.59l7.72-7.72 1.47 1.35L5.41 20z\"/>\n",
              "  </svg>\n",
              "      </button>\n",
              "      \n",
              "  <style>\n",
              "    .colab-df-container {\n",
              "      display:flex;\n",
              "      flex-wrap:wrap;\n",
              "      gap: 12px;\n",
              "    }\n",
              "\n",
              "    .colab-df-convert {\n",
              "      background-color: #E8F0FE;\n",
              "      border: none;\n",
              "      border-radius: 50%;\n",
              "      cursor: pointer;\n",
              "      display: none;\n",
              "      fill: #1967D2;\n",
              "      height: 32px;\n",
              "      padding: 0 0 0 0;\n",
              "      width: 32px;\n",
              "    }\n",
              "\n",
              "    .colab-df-convert:hover {\n",
              "      background-color: #E2EBFA;\n",
              "      box-shadow: 0px 1px 2px rgba(60, 64, 67, 0.3), 0px 1px 3px 1px rgba(60, 64, 67, 0.15);\n",
              "      fill: #174EA6;\n",
              "    }\n",
              "\n",
              "    [theme=dark] .colab-df-convert {\n",
              "      background-color: #3B4455;\n",
              "      fill: #D2E3FC;\n",
              "    }\n",
              "\n",
              "    [theme=dark] .colab-df-convert:hover {\n",
              "      background-color: #434B5C;\n",
              "      box-shadow: 0px 1px 3px 1px rgba(0, 0, 0, 0.15);\n",
              "      filter: drop-shadow(0px 1px 2px rgba(0, 0, 0, 0.3));\n",
              "      fill: #FFFFFF;\n",
              "    }\n",
              "  </style>\n",
              "\n",
              "      <script>\n",
              "        const buttonEl =\n",
              "          document.querySelector('#df-1fc02735-8289-49f9-bad3-9a6d84ae3d8e button.colab-df-convert');\n",
              "        buttonEl.style.display =\n",
              "          google.colab.kernel.accessAllowed ? 'block' : 'none';\n",
              "\n",
              "        async function convertToInteractive(key) {\n",
              "          const element = document.querySelector('#df-1fc02735-8289-49f9-bad3-9a6d84ae3d8e');\n",
              "          const dataTable =\n",
              "            await google.colab.kernel.invokeFunction('convertToInteractive',\n",
              "                                                     [key], {});\n",
              "          if (!dataTable) return;\n",
              "\n",
              "          const docLinkHtml = 'Like what you see? Visit the ' +\n",
              "            '<a target=\"_blank\" href=https://colab.research.google.com/notebooks/data_table.ipynb>data table notebook</a>'\n",
              "            + ' to learn more about interactive tables.';\n",
              "          element.innerHTML = '';\n",
              "          dataTable['output_type'] = 'display_data';\n",
              "          await google.colab.output.renderOutput(dataTable, element);\n",
              "          const docLink = document.createElement('div');\n",
              "          docLink.innerHTML = docLinkHtml;\n",
              "          element.appendChild(docLink);\n",
              "        }\n",
              "      </script>\n",
              "    </div>\n",
              "  </div>\n",
              "  "
            ]
          },
          "metadata": {},
          "execution_count": 37
        }
      ]
    },
    {
      "cell_type": "code",
      "source": [
        "\n",
        "# create bar chart\n",
        "sns.barplot(x='Model', y='MSE', data=df_comparaison)\n",
        "plt.show()"
      ],
      "metadata": {
        "colab": {
          "base_uri": "https://localhost:8080/",
          "height": 279
        },
        "id": "tfkRj1co8Iwk",
        "outputId": "1baa6c42-13fa-49e1-cc8c-48a72516834b"
      },
      "execution_count": null,
      "outputs": [
        {
          "output_type": "display_data",
          "data": {
            "text/plain": [
              "<Figure size 432x288 with 1 Axes>"
            ],
            "image/png": "[encoded data removed]"
          },
          "metadata": {
            "needs_background": "light"
          }
        }
      ]
    },
    {
      "cell_type": "markdown",
      "source": [
        "## Explication modèle XGBoost"
      ],
      "metadata": {
        "id": "LGKkVMMd74iD"
      }
    },
    {
      "cell_type": "code",
      "source": [
        "pip install shap"
      ],
      "metadata": {
        "id": "vv0gLjaSGsVB",
        "colab": {
          "base_uri": "https://localhost:8080/"
        },
        "outputId": "9386997c-2ba0-4d8a-ba2f-9c286489df4e"
      },
      "execution_count": null,
      "outputs": [
        {
          "output_type": "stream",
          "name": "stdout",
          "text": [
            "Looking in indexes: https://pypi.org/simple, https://us-python.pkg.dev/colab-wheels/public/simple/\n",
            "Requirement already satisfied: shap in /usr/local/lib/python3.8/dist-packages (0.41.0)\n",
            "Requirement already satisfied: cloudpickle in /usr/local/lib/python3.8/dist-packages (from shap) (2.2.0)\n",
            "Requirement already satisfied: slicer==0.0.7 in /usr/local/lib/python3.8/dist-packages (from shap) (0.0.7)\n",
            "Requirement already satisfied: scikit-learn in /usr/local/lib/python3.8/dist-packages (from shap) (1.0.2)\n",
            "Requirement already satisfied: scipy in /usr/local/lib/python3.8/dist-packages (from shap) (1.7.3)\n",
            "Requirement already satisfied: packaging>20.9 in /usr/local/lib/python3.8/dist-packages (from shap) (21.3)\n",
            "Requirement already satisfied: numba in /usr/local/lib/python3.8/dist-packages (from shap) (0.56.4)\n",
            "Requirement already satisfied: tqdm>4.25.0 in /usr/local/lib/python3.8/dist-packages (from shap) (4.64.1)\n",
            "Requirement already satisfied: numpy in /usr/local/lib/python3.8/dist-packages (from shap) (1.21.6)\n",
            "Requirement already satisfied: pandas in /usr/local/lib/python3.8/dist-packages (from shap) (1.3.5)\n",
            "Requirement already satisfied: pyparsing!=3.0.5,>=2.0.2 in /usr/local/lib/python3.8/dist-packages (from packaging>20.9->shap) (3.0.9)\n",
            "Requirement already satisfied: importlib-metadata in /usr/local/lib/python3.8/dist-packages (from numba->shap) (6.0.0)\n",
            "Requirement already satisfied: setuptools in /usr/local/lib/python3.8/dist-packages (from numba->shap) (57.4.0)\n",
            "Requirement already satisfied: llvmlite<0.40,>=0.39.0dev0 in /usr/local/lib/python3.8/dist-packages (from numba->shap) (0.39.1)\n",
            "Requirement already satisfied: python-dateutil>=2.7.3 in /usr/local/lib/python3.8/dist-packages (from pandas->shap) (2.8.2)\n",
            "Requirement already satisfied: pytz>=2017.3 in /usr/local/lib/python3.8/dist-packages (from pandas->shap) (2022.7)\n",
            "Requirement already satisfied: threadpoolctl>=2.0.0 in /usr/local/lib/python3.8/dist-packages (from scikit-learn->shap) (3.1.0)\n",
            "Requirement already satisfied: joblib>=0.11 in /usr/local/lib/python3.8/dist-packages (from scikit-learn->shap) (1.2.0)\n",
            "Requirement already satisfied: six>=1.5 in /usr/local/lib/python3.8/dist-packages (from python-dateutil>=2.7.3->pandas->shap) (1.15.0)\n",
            "Requirement already satisfied: zipp>=0.5 in /usr/local/lib/python3.8/dist-packages (from importlib-metadata->numba->shap) (3.11.0)\n"
          ]
        }
      ]
    },
    {
      "cell_type": "code",
      "source": [
        "features_display =  list(X)"
      ],
      "metadata": {
        "id": "oHvpzygYBekx"
      },
      "execution_count": null,
      "outputs": []
    },
    {
      "cell_type": "code",
      "source": [
        "import shap\n",
        "explainer = shap.TreeExplainer(reg_xgb)\n",
        "shap_values = explainer.shap_values(X_test)"
      ],
      "metadata": {
        "id": "06o5KAC0-Nsp"
      },
      "execution_count": null,
      "outputs": []
    },
    {
      "cell_type": "code",
      "source": [
        "plt.grid(False) \n",
        "shap.summary_plot(shap_values, X_test,features_display)"
      ],
      "metadata": {
        "colab": {
          "base_uri": "https://localhost:8080/",
          "height": 693
        },
        "id": "5QUWh-9xArEh",
        "outputId": "ad0cf8e8-1854-4590-ace3-1147921dcbc8"
      },
      "execution_count": null,
      "outputs": [
        {
          "output_type": "display_data",
          "data": {
            "text/plain": [
              "<Figure size 576x684 with 2 Axes>"
            ],
            "image/png": "[encoded data removed]"
          },
          "metadata": {
            "needs_background": "light"
          }
        }
      ]
    },
    {
      "cell_type": "code",
      "source": [
        "plt.grid(False) \n",
        "shap.summary_plot(shap_values, X_test)"
      ],
      "metadata": {
        "colab": {
          "base_uri": "https://localhost:8080/",
          "height": 693
        },
        "id": "lJ3SVrf0DZ-P",
        "outputId": "766b963f-6591-4ae7-879b-0cdb7c176fe1"
      },
      "execution_count": null,
      "outputs": [
        {
          "output_type": "display_data",
          "data": {
            "text/plain": [
              "<Figure size 576x684 with 2 Axes>"
            ],
            "image/png": "[encoded data removed]"
          },
          "metadata": {
            "needs_background": "light"
          }
        }
      ]
    },
    {
      "cell_type": "code",
      "source": [
        "shap.summary_plot(shap_values, X_test, features_display,plot_type=\"bar\")"
      ],
      "metadata": {
        "colab": {
          "base_uri": "https://localhost:8080/",
          "height": 693
        },
        "id": "ol7JcUpAAuIl",
        "outputId": "208bfb36-fa08-4bc2-a5a5-b26a8cae1105"
      },
      "execution_count": null,
      "outputs": [
        {
          "output_type": "display_data",
          "data": {
            "text/plain": [
              "<Figure size 576x684 with 1 Axes>"
            ],
            "image/png": "[encoded data removed]"
          },
          "metadata": {
            "needs_background": "light"
          }
        }
      ]
    },
    {
      "cell_type": "code",
      "source": [
        "shap.decision_plot(explainer.expected_value, shap_values[0], features_display,link='logit')"
      ],
      "metadata": {
        "colab": {
          "base_uri": "https://localhost:8080/",
          "height": 598
        },
        "id": "WVQYGcpoCNPU",
        "outputId": "f24f2629-845c-43b9-9670-a08ceaeed4d9"
      },
      "execution_count": null,
      "outputs": [
        {
          "output_type": "display_data",
          "data": {
            "text/plain": [
              "<Figure size 576x684 with 1 Axes>"
            ],
            "image/png": "[encoded data removed]"
          },
          "metadata": {
            "needs_background": "light"
          }
        }
      ]
    },
    {
      "cell_type": "code",
      "source": [
        "shap.decision_plot(explainer.expected_value, shap_values[1], features_display)"
      ],
      "metadata": {
        "colab": {
          "base_uri": "https://localhost:8080/",
          "height": 598
        },
        "id": "rBuOKgRRCNIF",
        "outputId": "95fb12e6-c601-4e0e-bdec-e4c5ff5b09fc"
      },
      "execution_count": null,
      "outputs": [
        {
          "output_type": "display_data",
          "data": {
            "text/plain": [
              "<Figure size 576x684 with 1 Axes>"
            ],
            "image/png": "[encoded data removed]"
          },
          "metadata": {
            "needs_background": "light"
          }
        }
      ]
    },
    {
      "cell_type": "code",
      "source": [
        "shap.decision_plot(explainer.expected_value, shap_values[120], features_display)"
      ],
      "metadata": {
        "colab": {
          "base_uri": "https://localhost:8080/",
          "height": 598
        },
        "id": "f8MdMFifCZZH",
        "outputId": "af168d8f-fec6-4036-bde5-bb2924c9c6bc"
      },
      "execution_count": null,
      "outputs": [
        {
          "output_type": "display_data",
          "data": {
            "text/plain": [
              "<Figure size 576x684 with 1 Axes>"
            ],
            "image/png": "[encoded data removed]"
          },
          "metadata": {
            "needs_background": "light"
          }
        }
      ]
    },
    {
      "cell_type": "code",
      "source": [
        "shap.decision_plot(explainer.expected_value, shap_values[124\n",
        "], features_display)"
      ],
      "metadata": {
        "colab": {
          "base_uri": "https://localhost:8080/",
          "height": 598
        },
        "id": "PiSSLfOwCgpd",
        "outputId": "dc22df48-016c-4c59-e6c6-85e42782c780"
      },
      "execution_count": null,
      "outputs": [
        {
          "output_type": "display_data",
          "data": {
            "text/plain": [
              "<Figure size 576x684 with 1 Axes>"
            ],
            "image/png": "[encoded data removed]"
          },
          "metadata": {
            "needs_background": "light"
          }
        }
      ]
    },
    {
      "cell_type": "code",
      "source": [
        "shap.decision_plot(explainer.expected_value, shap_values[27:78], features_display,)"
      ],
      "metadata": {
        "colab": {
          "base_uri": "https://localhost:8080/",
          "height": 598
        },
        "id": "eSVJtcO_Cng4",
        "outputId": "f7666f7d-ae71-48cf-b46f-b02c02c21fa2"
      },
      "execution_count": null,
      "outputs": [
        {
          "output_type": "display_data",
          "data": {
            "text/plain": [
              "<Figure size 576x684 with 1 Axes>"
            ],
            "image/png": "[encoded data removed]"
          },
          "metadata": {
            "needs_background": "light"
          }
        }
      ]
    },
    {
      "cell_type": "code",
      "source": [
        "shap.decision_plot(explainer.expected_value, shap_values[1000:2000], features_display,)"
      ],
      "metadata": {
        "colab": {
          "base_uri": "https://localhost:8080/",
          "height": 598
        },
        "id": "73oFEGI8CwUq",
        "outputId": "97930be0-a2f3-45bb-fc96-5dd32caa8ee4"
      },
      "execution_count": null,
      "outputs": [
        {
          "output_type": "display_data",
          "data": {
            "text/plain": [
              "<Figure size 576x684 with 1 Axes>"
            ],
            "image/png": "[encoded data removed]"
          },
          "metadata": {
            "needs_background": "light"
          }
        }
      ]
    },
    {
      "cell_type": "code",
      "source": [
        "shap.dependence_plot(\"trip_distance\", shap_values, X_test, features_display)"
      ],
      "metadata": {
        "colab": {
          "base_uri": "https://localhost:8080/",
          "height": 337
        },
        "id": "BWklS-o0C8F5",
        "outputId": "d594fc7c-7777-45e8-9f5c-66223e21855d"
      },
      "execution_count": null,
      "outputs": [
        {
          "output_type": "display_data",
          "data": {
            "text/plain": [
              "<Figure size 540x360 with 2 Axes>"
            ],
            "image/png": "[encoded data removed]"
          },
          "metadata": {
            "needs_background": "light"
          }
        }
      ]
    },
    {
      "cell_type": "code",
      "source": [
        "shap.dependence_plot(\"trip_duration\", shap_values, X_test, features_display)"
      ],
      "metadata": {
        "colab": {
          "base_uri": "https://localhost:8080/",
          "height": 337
        },
        "id": "QBedhI8FDmYV",
        "outputId": "221f4549-d508-4d1c-ec4f-d6daf1f24e63"
      },
      "execution_count": null,
      "outputs": [
        {
          "output_type": "display_data",
          "data": {
            "text/plain": [
              "<Figure size 540x360 with 2 Axes>"
            ],
            "image/png": "[encoded data removed]"
          },
          "metadata": {
            "needs_background": "light"
          }
        }
      ]
    },
    {
      "cell_type": "code",
      "source": [
        "shap.dependence_plot(\"RatecodeID_1.0\", shap_values, X_test, features_display)"
      ],
      "metadata": {
        "colab": {
          "base_uri": "https://localhost:8080/",
          "height": 337
        },
        "id": "h6uOr8zKDqCe",
        "outputId": "67820b95-5253-4ee8-ad3a-e44694c77603"
      },
      "execution_count": null,
      "outputs": [
        {
          "output_type": "display_data",
          "data": {
            "text/plain": [
              "<Figure size 540x360 with 2 Axes>"
            ],
            "image/png": "[encoded data removed]"
          },
          "metadata": {
            "needs_background": "light"
          }
        }
      ]
    },
    {
      "cell_type": "code",
      "source": [
        "shap.dependence_plot(\"trip_distance\", shap_values, X_test,features_display,interaction_index=\"trip_distance\")"
      ],
      "metadata": {
        "colab": {
          "base_uri": "https://localhost:8080/",
          "height": 337
        },
        "id": "SpYyYAu4Dp_p",
        "outputId": "f74d4944-9d82-4666-977e-4cfacfd753fb"
      },
      "execution_count": null,
      "outputs": [
        {
          "output_type": "display_data",
          "data": {
            "text/plain": [
              "<Figure size 432x360 with 1 Axes>"
            ],
            "image/png": "[encoded data removed]"
          },
          "metadata": {
            "needs_background": "light"
          }
        }
      ]
    },
    {
      "cell_type": "code",
      "source": [
        "shap.dependence_plot(\"trip_duration\", shap_values, X_test,features_display,interaction_index=\"trip_duration\")"
      ],
      "metadata": {
        "colab": {
          "base_uri": "https://localhost:8080/",
          "height": 337
        },
        "id": "rvnfjFCyDp2a",
        "outputId": "7ebf9a4f-5a39-45a6-bf9f-07a9af54216f"
      },
      "execution_count": null,
      "outputs": [
        {
          "output_type": "display_data",
          "data": {
            "text/plain": [
              "<Figure size 432x360 with 1 Axes>"
            ],
            "image/png": "[encoded data removed]"
          },
          "metadata": {
            "needs_background": "light"
          }
        }
      ]
    },
    {
      "cell_type": "code",
      "source": [
        "shap.dependence_plot(\"RatecodeID_1.0\", shap_values, X_test,features_display,interaction_index=\"RatecodeID_1.0\")"
      ],
      "metadata": {
        "colab": {
          "base_uri": "https://localhost:8080/",
          "height": 337
        },
        "id": "Usasc20DC8EE",
        "outputId": "d12d515d-47bc-4d41-a394-f4d11f493f76"
      },
      "execution_count": null,
      "outputs": [
        {
          "output_type": "display_data",
          "data": {
            "text/plain": [
              "<Figure size 432x360 with 1 Axes>"
            ],
            "image/png": "[encoded data removed]"
          },
          "metadata": {
            "needs_background": "light"
          }
        }
      ]
    },
    {
      "cell_type": "markdown",
      "source": [
        "## Analyse Flux de Taxi"
      ],
      "metadata": {
        "id": "GLnrX6JXLoTh"
      }
    },
    {
      "cell_type": "code",
      "source": [
        "# Convertir les colonnes de date en objets datetime\n",
        "df_yellow_taxi[\"tpep_pickup_datetime\"] = pd.to_datetime(df_yellow_taxi[\"tpep_pickup_datetime\"])\n",
        "df_yellow_taxi[\"tpep_dropoff_datetime\"] = pd.to_datetime(df_yellow_taxi[\"tpep_dropoff_datetime\"])\n",
        "\n",
        "# Extraire la date de prise en charge des trajets\n",
        "df_yellow_taxi[\"pickup_date\"] = df_yellow_taxi[\"tpep_pickup_datetime\"].dt.date\n",
        "\n",
        "# Compter le nombre de trajets par jour\n",
        "daily_trip_count = df_yellow_taxi.groupby(\"pickup_date\").size()\n",
        "\n",
        "# Afficher le résultat\n",
        "print(daily_trip_count)"
      ],
      "metadata": {
        "id": "u6GG0ol0Ls93"
      },
      "execution_count": null,
      "outputs": []
    },
    {
      "cell_type": "code",
      "source": [],
      "metadata": {
        "id": "PzTOg_tfMfD5"
      },
      "execution_count": null,
      "outputs": []
    },
    {
      "cell_type": "code",
      "source": [
        "# Compter le nombre de trajets par secteur et par jour\n",
        "daily_trip_count_by_sector = df_yellow_taxi.groupby([\"PULocationID\", \"pickup_date\"]).size()\n",
        "\n",
        "# Afficher le résultat\n",
        "print(daily_trip_count_by_sector)"
      ],
      "metadata": {
        "id": "MeOmbJb2Ltb3"
      },
      "execution_count": null,
      "outputs": []
    },
    {
      "cell_type": "code",
      "source": [
        "daily_trip_count_by_sector.plot(kind='bar')\n",
        "\n",
        "# Ajouter des titres et des étiquettes à l'axe\n",
        "plt.title(\"Nombre de trajets par secteur et par jour\")\n",
        "plt.xlabel(\"Secteur et date\")\n",
        "plt.ylabel(\"Nombre de trajets\")\n",
        "\n",
        "# Afficher le graphique\n",
        "plt.show()"
      ],
      "metadata": {
        "id": "DJQoWI4YNSTo"
      },
      "execution_count": null,
      "outputs": []
    },
    {
      "cell_type": "code",
      "source": [
        "# Appliquer un filtre pour sélectionner uniquement les trajets de certains secteurs\n",
        "data = data[data[\"PULocationID\"].isin([142,236,236])]\n",
        "\n",
        "# Compter le nombre de trajets par secteur et par jour\n",
        "daily_trip_count_by_sector = data.groupby([\"PULocationID\", \"pickup_date\"]).size()\n",
        "\n",
        "# créer un bar chart des trajets par secteur et par jour\n",
        "daily_trip_count_by_sector.plot(kind='bar')\n",
        "\n",
        "# Ajouter des titres et des étiquettes à l'axe\n",
        "plt.title(\"Nombre de trajets par secteur et par jour\")\n",
        "plt.xlabel(\"Secteur et date\")\n",
        "plt.ylabel(\"Nombre de trajets\")\n",
        "\n",
        "# Afficher le graphique\n",
        "plt.show()"
      ],
      "metadata": {
        "id": "pXM_RcmpOFdu"
      },
      "execution_count": null,
      "outputs": []
    },
    {
      "cell_type": "code",
      "source": [
        "import pandas as pd\n",
        "import matplotlib.pyplot as plt\n",
        "\n",
        "\n",
        "# Convertir les colonnes de date en objets datetime\n",
        "df_yellow_taxi[\"tpep_pickup_datetime\"] = pd.to_datetime(df_yellow_taxi[\"tpep_pickup_datetime\"])\n",
        "df_yellow_taxi[\"tpep_dropoff_datetime\"] = pd.to_datetime(df_yellow_taxi[\"tpep_dropoff_datetime\"])\n",
        "\n",
        "# Extraire la date de prise en charge des trajets\n",
        "df_yellow_taxi[\"pickup_date\"] = df_yellow_taxi[\"tpep_pickup_datetime\"].dt.date\n",
        "\n",
        "# Appliquer un filtre pour sélectionner uniquement les trajets de certains secteurs\n",
        "df_yellow_taxi = df_yellow_taxi[df_yellow_taxi[\"PULocationID\"].isin([142,236,236])]\n",
        "\n",
        "# Compter le nombre de trajets par secteur et par jour\n",
        "daily_trip_count_by_sector = df_yellow_taxi.groupby([\"PULocationID\", \"pickup_date\"]).size()\n",
        "\n",
        "# Ajout du nombre de taxi par jour\n",
        "daily_taxi_count = df_yellow_taxi.groupby(\"pickup_date\")[\"VendorID\"].nunique()\n",
        "\n",
        "# créer un bar chart des trajets par secteur et par jour\n",
        "daily_trip_count_by_sector.plot(kind='bar', label='Nombre de trajets')\n",
        "\n",
        "# Ajouter un graphique pour le nombre de taxis\n",
        "daily_taxi_count.plot(kind='bar', label='Nombre de taxi', secondary_y=True)\n",
        "\n",
        "# Ajouter des titres et des étiquettes à l'axe\n",
        "plt.title(\"Nombre de trajets et de taxis par secteur et par jour\")\n",
        "plt.xlabel(\"Secteur et date\")\n",
        "plt.ylabel(\"Nombre de trajets\")\n",
        "plt.legend()\n",
        "# Afficher le graphique\n",
        "plt.show()\n"
      ],
      "metadata": {
        "id": "fUBCJONhOncM"
      },
      "execution_count": null,
      "outputs": []
    },
    {
      "cell_type": "code",
      "source": [],
      "metadata": {
        "id": "9YciNUJBbA2E"
      },
      "execution_count": null,
      "outputs": []
    }
  ],
  "metadata": {
    "colab": {
      "collapsed_sections": [
        "__c8b1BK8Uzi",
        "YWHI7fxu8Zga",
        "wnv2FHGUZrrQ",
        "S0t8jLvKtimb",
        "gUp92Dsr4L8l",
        "lGbV8jR52dri",
        "SPJHtg6RFcIF",
        "KmrsaUGb5Kty",
        "zt3VmBN66J6w",
        "8bGwsCh_6OJU",
        "GLnrX6JXLoTh"
      ],
      "provenance": [],
      "include_colab_link": true
    },
    "kernelspec": {
      "display_name": "Python 3",
      "name": "python3"
    },
    "language_info": {
      "name": "python"
    }
  },
  "nbformat": 4,
  "nbformat_minor": 0
}